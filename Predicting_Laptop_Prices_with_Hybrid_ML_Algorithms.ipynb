{
  "metadata": {
    "kernelspec": {
      "language": "python",
      "display_name": "Python 3",
      "name": "python3"
    },
    "language_info": {
      "name": "python",
      "version": "3.10.14",
      "mimetype": "text/x-python",
      "codemirror_mode": {
        "name": "ipython",
        "version": 3
      },
      "pygments_lexer": "ipython3",
      "nbconvert_exporter": "python",
      "file_extension": ".py"
    },
    "kaggle": {
      "accelerator": "nvidiaTeslaT4",
      "dataSources": [
        {
          "sourceId": 9886066,
          "sourceType": "datasetVersion",
          "datasetId": 6070930
        }
      ],
      "dockerImageVersionId": 30787,
      "isInternetEnabled": true,
      "language": "python",
      "sourceType": "notebook",
      "isGpuEnabled": true
    },
    "colab": {
      "name": "Predicting Laptop Prices with Hybrid ML Algorithms",
      "provenance": [],
      "include_colab_link": true
    }
  },
  "nbformat_minor": 0,
  "nbformat": 4,
  "cells": [
    {
      "cell_type": "markdown",
      "metadata": {
        "id": "view-in-github",
        "colab_type": "text"
      },
      "source": [
        "<a href=\"https://colab.research.google.com/github/saugata-malakar/Summer-Analytics-2021-IIT-Guwahati/blob/main/Predicting_Laptop_Prices_with_Hybrid_ML_Algorithms.ipynb\" target=\"_parent\"><img src=\"https://colab.research.google.com/assets/colab-badge.svg\" alt=\"Open In Colab\"/></a>"
      ]
    },
    {
      "source": [
        "# IMPORTANT: RUN THIS CELL IN ORDER TO IMPORT YOUR KAGGLE DATA SOURCES,\n",
        "# THEN FEEL FREE TO DELETE THIS CELL.\n",
        "# NOTE: THIS NOTEBOOK ENVIRONMENT DIFFERS FROM KAGGLE'S PYTHON\n",
        "# ENVIRONMENT SO THERE MAY BE MISSING LIBRARIES USED BY YOUR\n",
        "# NOTEBOOK.\n",
        "import kagglehub\n",
        "ironwolf437_laptop_price_dataset_path = kagglehub.dataset_download('ironwolf437/laptop-price-dataset')\n",
        "\n",
        "print('Data source import complete.')\n"
      ],
      "metadata": {
        "id": "f7ck2qrdHGLd"
      },
      "cell_type": "code",
      "outputs": [],
      "execution_count": null
    },
    {
      "cell_type": "markdown",
      "source": [
        "# Import libraris"
      ],
      "metadata": {
        "id": "uiyB8g1IHGLg"
      }
    },
    {
      "cell_type": "code",
      "source": [
        "import numpy as np\n",
        "import pandas as pd\n",
        "import matplotlib.pyplot as plt\n",
        "import seaborn as sns\n",
        "\n",
        "from sklearn.impute import SimpleImputer\n",
        "\n",
        "from sklearn.preprocessing import LabelEncoder, MinMaxScaler\n",
        "from sklearn.model_selection import train_test_split\n",
        "\n",
        "from sklearn.linear_model import LinearRegression, SGDRegressor, Lasso, Ridge, ElasticNet\n",
        "from sklearn.svm import SVR\n",
        "from sklearn.neighbors import KNeighborsRegressor\n",
        "from sklearn.tree import DecisionTreeRegressor\n",
        "from sklearn.ensemble import RandomForestRegressor, BaggingRegressor, ExtraTreesRegressor, AdaBoostRegressor\n",
        "from xgboost import XGBRegressor\n",
        "from catboost import CatBoostRegressor\n",
        "from lightgbm import LGBMRegressor\n",
        "\n",
        "from sklearn.metrics import mean_squared_error"
      ],
      "metadata": {
        "trusted": true,
        "execution": {
          "iopub.status.busy": "2024-11-13T11:24:53.835066Z",
          "iopub.execute_input": "2024-11-13T11:24:53.835817Z",
          "iopub.status.idle": "2024-11-13T11:24:53.842595Z",
          "shell.execute_reply.started": "2024-11-13T11:24:53.835766Z",
          "shell.execute_reply": "2024-11-13T11:24:53.841543Z"
        },
        "id": "IE9v2hhKHGLi",
        "outputId": "9397ef2d-e865-4922-efcc-68962fd4e98a",
        "colab": {
          "base_uri": "https://localhost:8080/",
          "height": 383
        }
      },
      "outputs": [
        {
          "output_type": "error",
          "ename": "ModuleNotFoundError",
          "evalue": "No module named 'catboost'",
          "traceback": [
            "\u001b[0;31m---------------------------------------------------------------------------\u001b[0m",
            "\u001b[0;31mModuleNotFoundError\u001b[0m                       Traceback (most recent call last)",
            "\u001b[0;32m<ipython-input-2-01629fc0bdde>\u001b[0m in \u001b[0;36m<cell line: 17>\u001b[0;34m()\u001b[0m\n\u001b[1;32m     15\u001b[0m \u001b[0;32mfrom\u001b[0m \u001b[0msklearn\u001b[0m\u001b[0;34m.\u001b[0m\u001b[0mensemble\u001b[0m \u001b[0;32mimport\u001b[0m \u001b[0mRandomForestRegressor\u001b[0m\u001b[0;34m,\u001b[0m \u001b[0mBaggingRegressor\u001b[0m\u001b[0;34m,\u001b[0m \u001b[0mExtraTreesRegressor\u001b[0m\u001b[0;34m,\u001b[0m \u001b[0mAdaBoostRegressor\u001b[0m\u001b[0;34m\u001b[0m\u001b[0;34m\u001b[0m\u001b[0m\n\u001b[1;32m     16\u001b[0m \u001b[0;32mfrom\u001b[0m \u001b[0mxgboost\u001b[0m \u001b[0;32mimport\u001b[0m \u001b[0mXGBRegressor\u001b[0m\u001b[0;34m\u001b[0m\u001b[0;34m\u001b[0m\u001b[0m\n\u001b[0;32m---> 17\u001b[0;31m \u001b[0;32mfrom\u001b[0m \u001b[0mcatboost\u001b[0m \u001b[0;32mimport\u001b[0m \u001b[0mCatBoostRegressor\u001b[0m\u001b[0;34m\u001b[0m\u001b[0;34m\u001b[0m\u001b[0m\n\u001b[0m\u001b[1;32m     18\u001b[0m \u001b[0;32mfrom\u001b[0m \u001b[0mlightgbm\u001b[0m \u001b[0;32mimport\u001b[0m \u001b[0mLGBMRegressor\u001b[0m\u001b[0;34m\u001b[0m\u001b[0;34m\u001b[0m\u001b[0m\n\u001b[1;32m     19\u001b[0m \u001b[0;34m\u001b[0m\u001b[0m\n",
            "\u001b[0;31mModuleNotFoundError\u001b[0m: No module named 'catboost'",
            "",
            "\u001b[0;31m---------------------------------------------------------------------------\u001b[0;32m\nNOTE: If your import is failing due to a missing package, you can\nmanually install dependencies using either !pip or !apt.\n\nTo view examples of installing some common dependencies, click the\n\"Open Examples\" button below.\n\u001b[0;31m---------------------------------------------------------------------------\u001b[0m\n"
          ],
          "errorDetails": {
            "actions": [
              {
                "action": "open_url",
                "actionText": "Open Examples",
                "url": "/notebooks/snippets/importing_libraries.ipynb"
              }
            ]
          }
        }
      ],
      "execution_count": 2
    },
    {
      "source": [
        "# IMPORTANT: RUN THIS CELL IN ORDER TO IMPORT YOUR KAGGLE DATA SOURCES,\n",
        "# THEN FEEL FREE TO DELETE THIS CELL.\n",
        "# NOTE: THIS NOTEBOOK ENVIRONMENT DIFFERS FROM KAGGLE'S PYTHON\n",
        "# ENVIRONMENT SO THERE MAY BE MISSING LIBRARIES USED BY YOUR\n",
        "# NOTE"
      ],
      "cell_type": "code",
      "metadata": {
        "id": "gL1WUJNDHct4"
      },
      "execution_count": 3,
      "outputs": []
    },
    {
      "source": [
        "# IMPORTANT: RUN THIS CELL IN ORDER TO IMPORT YOUR KAGGLE DATA SOURCES,\n",
        "# THEN FEEL FREE TO DELETE THIS CELL.\n",
        "# NOTE: THIS NOTEBOOK ENVIRONMENT DIFFERS FROM KAGGLE'S PYTHON\n",
        "# ENVIRONMENT SO THERE MAY BE MISSING LIBRARIES USED BY YOUR\n",
        "# NOTEBOOK.\n",
        "import kagglehub\n",
        "ironwolf437_laptop_price_dataset_path = kagglehub.dataset_download('ironwolf437/laptop-price-dataset')\n",
        "\n",
        "print('Data source import complete.')\n",
        "\n",
        "\n",
        "import numpy as np\n",
        "import pandas as pd\n",
        "import matplotlib.pyplot as plt\n",
        "import seaborn as sns\n",
        "\n",
        "from sklearn.impute import SimpleImputer\n",
        "\n",
        "from sklearn.preprocessing import LabelEncoder, MinMaxScaler\n",
        "from sklearn.model_selection import train_test_split\n",
        "\n",
        "from sklearn.linear_model import LinearRegression, SGDRegressor, Lasso, Ridge, ElasticNet\n",
        "from sklearn.svm import SVR\n",
        "from sklearn.neighbors import KNeighborsRegressor\n",
        "from sklearn.tree import DecisionTreeRegressor\n",
        "from sklearn.ensemble import RandomForestRegressor, BaggingRegressor, ExtraTreesRegressor, AdaBoostRegressor\n",
        "from xgboost import XGBRegressor\n",
        "# Install catboost if not already installed\n",
        "!pip install catboost\n",
        "from catboost import CatBoostRegressor # Now import catboost\n",
        "from lightgbm import LGBMRegressor\n",
        "\n",
        "from sklearn.metrics import mean_squared_error"
      ],
      "cell_type": "code",
      "metadata": {
        "id": "70mzbiwZHfWd",
        "outputId": "22a1e1b1-d5b3-4daf-e483-82ed0399272f",
        "colab": {
          "base_uri": "https://localhost:8080/"
        }
      },
      "execution_count": 4,
      "outputs": [
        {
          "output_type": "stream",
          "name": "stdout",
          "text": [
            "Warning: Looks like you're using an outdated `kagglehub` version, please consider updating (latest version: 0.3.4)\n",
            "Downloading from https://www.kaggle.com/api/v1/datasets/download/ironwolf437/laptop-price-dataset?dataset_version_number=1...\n"
          ]
        },
        {
          "output_type": "stream",
          "name": "stderr",
          "text": [
            "100%|██████████| 24.5k/24.5k [00:00<00:00, 10.7MB/s]"
          ]
        },
        {
          "output_type": "stream",
          "name": "stdout",
          "text": [
            "Extracting files...\n",
            "Data source import complete.\n"
          ]
        },
        {
          "output_type": "stream",
          "name": "stderr",
          "text": [
            "\n"
          ]
        },
        {
          "output_type": "stream",
          "name": "stdout",
          "text": [
            "Collecting catboost\n",
            "  Downloading catboost-1.2.7-cp310-cp310-manylinux2014_x86_64.whl.metadata (1.2 kB)\n",
            "Requirement already satisfied: graphviz in /usr/local/lib/python3.10/dist-packages (from catboost) (0.20.3)\n",
            "Requirement already satisfied: matplotlib in /usr/local/lib/python3.10/dist-packages (from catboost) (3.8.0)\n",
            "Requirement already satisfied: numpy<2.0,>=1.16.0 in /usr/local/lib/python3.10/dist-packages (from catboost) (1.26.4)\n",
            "Requirement already satisfied: pandas>=0.24 in /usr/local/lib/python3.10/dist-packages (from catboost) (2.2.2)\n",
            "Requirement already satisfied: scipy in /usr/local/lib/python3.10/dist-packages (from catboost) (1.13.1)\n",
            "Requirement already satisfied: plotly in /usr/local/lib/python3.10/dist-packages (from catboost) (5.24.1)\n",
            "Requirement already satisfied: six in /usr/local/lib/python3.10/dist-packages (from catboost) (1.16.0)\n",
            "Requirement already satisfied: python-dateutil>=2.8.2 in /usr/local/lib/python3.10/dist-packages (from pandas>=0.24->catboost) (2.8.2)\n",
            "Requirement already satisfied: pytz>=2020.1 in /usr/local/lib/python3.10/dist-packages (from pandas>=0.24->catboost) (2024.2)\n",
            "Requirement already satisfied: tzdata>=2022.7 in /usr/local/lib/python3.10/dist-packages (from pandas>=0.24->catboost) (2024.2)\n",
            "Requirement already satisfied: contourpy>=1.0.1 in /usr/local/lib/python3.10/dist-packages (from matplotlib->catboost) (1.3.0)\n",
            "Requirement already satisfied: cycler>=0.10 in /usr/local/lib/python3.10/dist-packages (from matplotlib->catboost) (0.12.1)\n",
            "Requirement already satisfied: fonttools>=4.22.0 in /usr/local/lib/python3.10/dist-packages (from matplotlib->catboost) (4.54.1)\n",
            "Requirement already satisfied: kiwisolver>=1.0.1 in /usr/local/lib/python3.10/dist-packages (from matplotlib->catboost) (1.4.7)\n",
            "Requirement already satisfied: packaging>=20.0 in /usr/local/lib/python3.10/dist-packages (from matplotlib->catboost) (24.2)\n",
            "Requirement already satisfied: pillow>=6.2.0 in /usr/local/lib/python3.10/dist-packages (from matplotlib->catboost) (11.0.0)\n",
            "Requirement already satisfied: pyparsing>=2.3.1 in /usr/local/lib/python3.10/dist-packages (from matplotlib->catboost) (3.2.0)\n",
            "Requirement already satisfied: tenacity>=6.2.0 in /usr/local/lib/python3.10/dist-packages (from plotly->catboost) (9.0.0)\n",
            "Downloading catboost-1.2.7-cp310-cp310-manylinux2014_x86_64.whl (98.7 MB)\n",
            "\u001b[2K   \u001b[90m━━━━━━━━━━━━━━━━━━━━━━━━━━━━━━━━━━━━━━━━\u001b[0m \u001b[32m98.7/98.7 MB\u001b[0m \u001b[31m9.8 MB/s\u001b[0m eta \u001b[36m0:00:00\u001b[0m\n",
            "\u001b[?25hInstalling collected packages: catboost\n",
            "Successfully installed catboost-1.2.7\n"
          ]
        },
        {
          "output_type": "stream",
          "name": "stderr",
          "text": [
            "/usr/local/lib/python3.10/dist-packages/dask/dataframe/__init__.py:42: FutureWarning: \n",
            "Dask dataframe query planning is disabled because dask-expr is not installed.\n",
            "\n",
            "You can install it with `pip install dask[dataframe]` or `conda install dask`.\n",
            "This will raise in a future version.\n",
            "\n",
            "  warnings.warn(msg, FutureWarning)\n"
          ]
        }
      ]
    },
    {
      "cell_type": "code",
      "source": [
        "df = pd.read_csv(\"/content/laptop_price - dataset (1).csv\")"
      ],
      "metadata": {
        "trusted": true,
        "execution": {
          "iopub.status.busy": "2024-11-13T11:26:02.998921Z",
          "iopub.execute_input": "2024-11-13T11:26:02.999926Z",
          "iopub.status.idle": "2024-11-13T11:26:03.026517Z",
          "shell.execute_reply.started": "2024-11-13T11:26:02.999874Z",
          "shell.execute_reply": "2024-11-13T11:26:03.025517Z"
        },
        "id": "O6WH6o83HGLj"
      },
      "outputs": [],
      "execution_count": 5
    },
    {
      "cell_type": "code",
      "source": [
        "df.head()"
      ],
      "metadata": {
        "trusted": true,
        "execution": {
          "iopub.status.busy": "2024-11-13T11:26:17.222806Z",
          "iopub.execute_input": "2024-11-13T11:26:17.22325Z",
          "iopub.status.idle": "2024-11-13T11:26:17.25862Z",
          "shell.execute_reply.started": "2024-11-13T11:26:17.2232Z",
          "shell.execute_reply": "2024-11-13T11:26:17.257712Z"
        },
        "id": "fTz6awJ5HGLj",
        "outputId": "5286dc2f-1716-454d-eef7-0b8c32f961d8",
        "colab": {
          "base_uri": "https://localhost:8080/",
          "height": 399
        }
      },
      "outputs": [
        {
          "output_type": "execute_result",
          "data": {
            "text/plain": [
              "  Company      Product   TypeName  Inches                    ScreenResolution  \\\n",
              "0   Apple  MacBook Pro  Ultrabook    13.3  IPS Panel Retina Display 2560x1600   \n",
              "1   Apple  Macbook Air  Ultrabook    13.3                            1440x900   \n",
              "2      HP       250 G6   Notebook    15.6                   Full HD 1920x1080   \n",
              "3   Apple  MacBook Pro  Ultrabook    15.4  IPS Panel Retina Display 2880x1800   \n",
              "4   Apple  MacBook Pro  Ultrabook    13.3  IPS Panel Retina Display 2560x1600   \n",
              "\n",
              "  CPU_Company       CPU_Type  CPU_Frequency (GHz)  RAM (GB)  \\\n",
              "0       Intel        Core i5                  2.3         8   \n",
              "1       Intel        Core i5                  1.8         8   \n",
              "2       Intel  Core i5 7200U                  2.5         8   \n",
              "3       Intel        Core i7                  2.7        16   \n",
              "4       Intel        Core i5                  3.1         8   \n",
              "\n",
              "                Memory GPU_Company                GPU_Type  OpSys  \\\n",
              "0            128GB SSD       Intel  Iris Plus Graphics 640  macOS   \n",
              "1  128GB Flash Storage       Intel        HD Graphics 6000  macOS   \n",
              "2            256GB SSD       Intel         HD Graphics 620  No OS   \n",
              "3            512GB SSD         AMD          Radeon Pro 455  macOS   \n",
              "4            256GB SSD       Intel  Iris Plus Graphics 650  macOS   \n",
              "\n",
              "   Weight (kg)  Price (Euro)  \n",
              "0         1.37       1339.69  \n",
              "1         1.34        898.94  \n",
              "2         1.86        575.00  \n",
              "3         1.83       2537.45  \n",
              "4         1.37       1803.60  "
            ],
            "text/html": [
              "\n",
              "  <div id=\"df-bb7ea2e6-bcb4-46cc-ad6e-3719d83c037b\" class=\"colab-df-container\">\n",
              "    <div>\n",
              "<style scoped>\n",
              "    .dataframe tbody tr th:only-of-type {\n",
              "        vertical-align: middle;\n",
              "    }\n",
              "\n",
              "    .dataframe tbody tr th {\n",
              "        vertical-align: top;\n",
              "    }\n",
              "\n",
              "    .dataframe thead th {\n",
              "        text-align: right;\n",
              "    }\n",
              "</style>\n",
              "<table border=\"1\" class=\"dataframe\">\n",
              "  <thead>\n",
              "    <tr style=\"text-align: right;\">\n",
              "      <th></th>\n",
              "      <th>Company</th>\n",
              "      <th>Product</th>\n",
              "      <th>TypeName</th>\n",
              "      <th>Inches</th>\n",
              "      <th>ScreenResolution</th>\n",
              "      <th>CPU_Company</th>\n",
              "      <th>CPU_Type</th>\n",
              "      <th>CPU_Frequency (GHz)</th>\n",
              "      <th>RAM (GB)</th>\n",
              "      <th>Memory</th>\n",
              "      <th>GPU_Company</th>\n",
              "      <th>GPU_Type</th>\n",
              "      <th>OpSys</th>\n",
              "      <th>Weight (kg)</th>\n",
              "      <th>Price (Euro)</th>\n",
              "    </tr>\n",
              "  </thead>\n",
              "  <tbody>\n",
              "    <tr>\n",
              "      <th>0</th>\n",
              "      <td>Apple</td>\n",
              "      <td>MacBook Pro</td>\n",
              "      <td>Ultrabook</td>\n",
              "      <td>13.3</td>\n",
              "      <td>IPS Panel Retina Display 2560x1600</td>\n",
              "      <td>Intel</td>\n",
              "      <td>Core i5</td>\n",
              "      <td>2.3</td>\n",
              "      <td>8</td>\n",
              "      <td>128GB SSD</td>\n",
              "      <td>Intel</td>\n",
              "      <td>Iris Plus Graphics 640</td>\n",
              "      <td>macOS</td>\n",
              "      <td>1.37</td>\n",
              "      <td>1339.69</td>\n",
              "    </tr>\n",
              "    <tr>\n",
              "      <th>1</th>\n",
              "      <td>Apple</td>\n",
              "      <td>Macbook Air</td>\n",
              "      <td>Ultrabook</td>\n",
              "      <td>13.3</td>\n",
              "      <td>1440x900</td>\n",
              "      <td>Intel</td>\n",
              "      <td>Core i5</td>\n",
              "      <td>1.8</td>\n",
              "      <td>8</td>\n",
              "      <td>128GB Flash Storage</td>\n",
              "      <td>Intel</td>\n",
              "      <td>HD Graphics 6000</td>\n",
              "      <td>macOS</td>\n",
              "      <td>1.34</td>\n",
              "      <td>898.94</td>\n",
              "    </tr>\n",
              "    <tr>\n",
              "      <th>2</th>\n",
              "      <td>HP</td>\n",
              "      <td>250 G6</td>\n",
              "      <td>Notebook</td>\n",
              "      <td>15.6</td>\n",
              "      <td>Full HD 1920x1080</td>\n",
              "      <td>Intel</td>\n",
              "      <td>Core i5 7200U</td>\n",
              "      <td>2.5</td>\n",
              "      <td>8</td>\n",
              "      <td>256GB SSD</td>\n",
              "      <td>Intel</td>\n",
              "      <td>HD Graphics 620</td>\n",
              "      <td>No OS</td>\n",
              "      <td>1.86</td>\n",
              "      <td>575.00</td>\n",
              "    </tr>\n",
              "    <tr>\n",
              "      <th>3</th>\n",
              "      <td>Apple</td>\n",
              "      <td>MacBook Pro</td>\n",
              "      <td>Ultrabook</td>\n",
              "      <td>15.4</td>\n",
              "      <td>IPS Panel Retina Display 2880x1800</td>\n",
              "      <td>Intel</td>\n",
              "      <td>Core i7</td>\n",
              "      <td>2.7</td>\n",
              "      <td>16</td>\n",
              "      <td>512GB SSD</td>\n",
              "      <td>AMD</td>\n",
              "      <td>Radeon Pro 455</td>\n",
              "      <td>macOS</td>\n",
              "      <td>1.83</td>\n",
              "      <td>2537.45</td>\n",
              "    </tr>\n",
              "    <tr>\n",
              "      <th>4</th>\n",
              "      <td>Apple</td>\n",
              "      <td>MacBook Pro</td>\n",
              "      <td>Ultrabook</td>\n",
              "      <td>13.3</td>\n",
              "      <td>IPS Panel Retina Display 2560x1600</td>\n",
              "      <td>Intel</td>\n",
              "      <td>Core i5</td>\n",
              "      <td>3.1</td>\n",
              "      <td>8</td>\n",
              "      <td>256GB SSD</td>\n",
              "      <td>Intel</td>\n",
              "      <td>Iris Plus Graphics 650</td>\n",
              "      <td>macOS</td>\n",
              "      <td>1.37</td>\n",
              "      <td>1803.60</td>\n",
              "    </tr>\n",
              "  </tbody>\n",
              "</table>\n",
              "</div>\n",
              "    <div class=\"colab-df-buttons\">\n",
              "\n",
              "  <div class=\"colab-df-container\">\n",
              "    <button class=\"colab-df-convert\" onclick=\"convertToInteractive('df-bb7ea2e6-bcb4-46cc-ad6e-3719d83c037b')\"\n",
              "            title=\"Convert this dataframe to an interactive table.\"\n",
              "            style=\"display:none;\">\n",
              "\n",
              "  <svg xmlns=\"http://www.w3.org/2000/svg\" height=\"24px\" viewBox=\"0 -960 960 960\">\n",
              "    <path d=\"M120-120v-720h720v720H120Zm60-500h600v-160H180v160Zm220 220h160v-160H400v160Zm0 220h160v-160H400v160ZM180-400h160v-160H180v160Zm440 0h160v-160H620v160ZM180-180h160v-160H180v160Zm440 0h160v-160H620v160Z\"/>\n",
              "  </svg>\n",
              "    </button>\n",
              "\n",
              "  <style>\n",
              "    .colab-df-container {\n",
              "      display:flex;\n",
              "      gap: 12px;\n",
              "    }\n",
              "\n",
              "    .colab-df-convert {\n",
              "      background-color: #E8F0FE;\n",
              "      border: none;\n",
              "      border-radius: 50%;\n",
              "      cursor: pointer;\n",
              "      display: none;\n",
              "      fill: #1967D2;\n",
              "      height: 32px;\n",
              "      padding: 0 0 0 0;\n",
              "      width: 32px;\n",
              "    }\n",
              "\n",
              "    .colab-df-convert:hover {\n",
              "      background-color: #E2EBFA;\n",
              "      box-shadow: 0px 1px 2px rgba(60, 64, 67, 0.3), 0px 1px 3px 1px rgba(60, 64, 67, 0.15);\n",
              "      fill: #174EA6;\n",
              "    }\n",
              "\n",
              "    .colab-df-buttons div {\n",
              "      margin-bottom: 4px;\n",
              "    }\n",
              "\n",
              "    [theme=dark] .colab-df-convert {\n",
              "      background-color: #3B4455;\n",
              "      fill: #D2E3FC;\n",
              "    }\n",
              "\n",
              "    [theme=dark] .colab-df-convert:hover {\n",
              "      background-color: #434B5C;\n",
              "      box-shadow: 0px 1px 3px 1px rgba(0, 0, 0, 0.15);\n",
              "      filter: drop-shadow(0px 1px 2px rgba(0, 0, 0, 0.3));\n",
              "      fill: #FFFFFF;\n",
              "    }\n",
              "  </style>\n",
              "\n",
              "    <script>\n",
              "      const buttonEl =\n",
              "        document.querySelector('#df-bb7ea2e6-bcb4-46cc-ad6e-3719d83c037b button.colab-df-convert');\n",
              "      buttonEl.style.display =\n",
              "        google.colab.kernel.accessAllowed ? 'block' : 'none';\n",
              "\n",
              "      async function convertToInteractive(key) {\n",
              "        const element = document.querySelector('#df-bb7ea2e6-bcb4-46cc-ad6e-3719d83c037b');\n",
              "        const dataTable =\n",
              "          await google.colab.kernel.invokeFunction('convertToInteractive',\n",
              "                                                    [key], {});\n",
              "        if (!dataTable) return;\n",
              "\n",
              "        const docLinkHtml = 'Like what you see? Visit the ' +\n",
              "          '<a target=\"_blank\" href=https://colab.research.google.com/notebooks/data_table.ipynb>data table notebook</a>'\n",
              "          + ' to learn more about interactive tables.';\n",
              "        element.innerHTML = '';\n",
              "        dataTable['output_type'] = 'display_data';\n",
              "        await google.colab.output.renderOutput(dataTable, element);\n",
              "        const docLink = document.createElement('div');\n",
              "        docLink.innerHTML = docLinkHtml;\n",
              "        element.appendChild(docLink);\n",
              "      }\n",
              "    </script>\n",
              "  </div>\n",
              "\n",
              "\n",
              "<div id=\"df-2c9c2818-45a4-4bfd-beb0-397ba82459a7\">\n",
              "  <button class=\"colab-df-quickchart\" onclick=\"quickchart('df-2c9c2818-45a4-4bfd-beb0-397ba82459a7')\"\n",
              "            title=\"Suggest charts\"\n",
              "            style=\"display:none;\">\n",
              "\n",
              "<svg xmlns=\"http://www.w3.org/2000/svg\" height=\"24px\"viewBox=\"0 0 24 24\"\n",
              "     width=\"24px\">\n",
              "    <g>\n",
              "        <path d=\"M19 3H5c-1.1 0-2 .9-2 2v14c0 1.1.9 2 2 2h14c1.1 0 2-.9 2-2V5c0-1.1-.9-2-2-2zM9 17H7v-7h2v7zm4 0h-2V7h2v10zm4 0h-2v-4h2v4z\"/>\n",
              "    </g>\n",
              "</svg>\n",
              "  </button>\n",
              "\n",
              "<style>\n",
              "  .colab-df-quickchart {\n",
              "      --bg-color: #E8F0FE;\n",
              "      --fill-color: #1967D2;\n",
              "      --hover-bg-color: #E2EBFA;\n",
              "      --hover-fill-color: #174EA6;\n",
              "      --disabled-fill-color: #AAA;\n",
              "      --disabled-bg-color: #DDD;\n",
              "  }\n",
              "\n",
              "  [theme=dark] .colab-df-quickchart {\n",
              "      --bg-color: #3B4455;\n",
              "      --fill-color: #D2E3FC;\n",
              "      --hover-bg-color: #434B5C;\n",
              "      --hover-fill-color: #FFFFFF;\n",
              "      --disabled-bg-color: #3B4455;\n",
              "      --disabled-fill-color: #666;\n",
              "  }\n",
              "\n",
              "  .colab-df-quickchart {\n",
              "    background-color: var(--bg-color);\n",
              "    border: none;\n",
              "    border-radius: 50%;\n",
              "    cursor: pointer;\n",
              "    display: none;\n",
              "    fill: var(--fill-color);\n",
              "    height: 32px;\n",
              "    padding: 0;\n",
              "    width: 32px;\n",
              "  }\n",
              "\n",
              "  .colab-df-quickchart:hover {\n",
              "    background-color: var(--hover-bg-color);\n",
              "    box-shadow: 0 1px 2px rgba(60, 64, 67, 0.3), 0 1px 3px 1px rgba(60, 64, 67, 0.15);\n",
              "    fill: var(--button-hover-fill-color);\n",
              "  }\n",
              "\n",
              "  .colab-df-quickchart-complete:disabled,\n",
              "  .colab-df-quickchart-complete:disabled:hover {\n",
              "    background-color: var(--disabled-bg-color);\n",
              "    fill: var(--disabled-fill-color);\n",
              "    box-shadow: none;\n",
              "  }\n",
              "\n",
              "  .colab-df-spinner {\n",
              "    border: 2px solid var(--fill-color);\n",
              "    border-color: transparent;\n",
              "    border-bottom-color: var(--fill-color);\n",
              "    animation:\n",
              "      spin 1s steps(1) infinite;\n",
              "  }\n",
              "\n",
              "  @keyframes spin {\n",
              "    0% {\n",
              "      border-color: transparent;\n",
              "      border-bottom-color: var(--fill-color);\n",
              "      border-left-color: var(--fill-color);\n",
              "    }\n",
              "    20% {\n",
              "      border-color: transparent;\n",
              "      border-left-color: var(--fill-color);\n",
              "      border-top-color: var(--fill-color);\n",
              "    }\n",
              "    30% {\n",
              "      border-color: transparent;\n",
              "      border-left-color: var(--fill-color);\n",
              "      border-top-color: var(--fill-color);\n",
              "      border-right-color: var(--fill-color);\n",
              "    }\n",
              "    40% {\n",
              "      border-color: transparent;\n",
              "      border-right-color: var(--fill-color);\n",
              "      border-top-color: var(--fill-color);\n",
              "    }\n",
              "    60% {\n",
              "      border-color: transparent;\n",
              "      border-right-color: var(--fill-color);\n",
              "    }\n",
              "    80% {\n",
              "      border-color: transparent;\n",
              "      border-right-color: var(--fill-color);\n",
              "      border-bottom-color: var(--fill-color);\n",
              "    }\n",
              "    90% {\n",
              "      border-color: transparent;\n",
              "      border-bottom-color: var(--fill-color);\n",
              "    }\n",
              "  }\n",
              "</style>\n",
              "\n",
              "  <script>\n",
              "    async function quickchart(key) {\n",
              "      const quickchartButtonEl =\n",
              "        document.querySelector('#' + key + ' button');\n",
              "      quickchartButtonEl.disabled = true;  // To prevent multiple clicks.\n",
              "      quickchartButtonEl.classList.add('colab-df-spinner');\n",
              "      try {\n",
              "        const charts = await google.colab.kernel.invokeFunction(\n",
              "            'suggestCharts', [key], {});\n",
              "      } catch (error) {\n",
              "        console.error('Error during call to suggestCharts:', error);\n",
              "      }\n",
              "      quickchartButtonEl.classList.remove('colab-df-spinner');\n",
              "      quickchartButtonEl.classList.add('colab-df-quickchart-complete');\n",
              "    }\n",
              "    (() => {\n",
              "      let quickchartButtonEl =\n",
              "        document.querySelector('#df-2c9c2818-45a4-4bfd-beb0-397ba82459a7 button');\n",
              "      quickchartButtonEl.style.display =\n",
              "        google.colab.kernel.accessAllowed ? 'block' : 'none';\n",
              "    })();\n",
              "  </script>\n",
              "</div>\n",
              "\n",
              "    </div>\n",
              "  </div>\n"
            ],
            "application/vnd.google.colaboratory.intrinsic+json": {
              "type": "dataframe",
              "variable_name": "df",
              "summary": "{\n  \"name\": \"df\",\n  \"rows\": 1275,\n  \"fields\": [\n    {\n      \"column\": \"Company\",\n      \"properties\": {\n        \"dtype\": \"category\",\n        \"num_unique_values\": 19,\n        \"samples\": [\n          \"Apple\",\n          \"Lenovo\",\n          \"Xiaomi\"\n        ],\n        \"semantic_type\": \"\",\n        \"description\": \"\"\n      }\n    },\n    {\n      \"column\": \"Product\",\n      \"properties\": {\n        \"dtype\": \"category\",\n        \"num_unique_values\": 618,\n        \"samples\": [\n          \"GL72M 7RDX\",\n          \"GS73VR 7RF\",\n          \"E402WA-GA007T (E2-6110/4GB/64GB/W10\"\n        ],\n        \"semantic_type\": \"\",\n        \"description\": \"\"\n      }\n    },\n    {\n      \"column\": \"TypeName\",\n      \"properties\": {\n        \"dtype\": \"category\",\n        \"num_unique_values\": 6,\n        \"samples\": [\n          \"Ultrabook\",\n          \"Notebook\",\n          \"Workstation\"\n        ],\n        \"semantic_type\": \"\",\n        \"description\": \"\"\n      }\n    },\n    {\n      \"column\": \"Inches\",\n      \"properties\": {\n        \"dtype\": \"number\",\n        \"std\": 1.4294698446247902,\n        \"min\": 10.1,\n        \"max\": 18.4,\n        \"num_unique_values\": 18,\n        \"samples\": [\n          13.3,\n          15.6,\n          13.5\n        ],\n        \"semantic_type\": \"\",\n        \"description\": \"\"\n      }\n    },\n    {\n      \"column\": \"ScreenResolution\",\n      \"properties\": {\n        \"dtype\": \"category\",\n        \"num_unique_values\": 40,\n        \"samples\": [\n          \"IPS Panel 4K Ultra HD 3840x2160\",\n          \"4K Ultra HD / Touchscreen 3840x2160\",\n          \"IPS Panel Full HD 2160x1440\"\n        ],\n        \"semantic_type\": \"\",\n        \"description\": \"\"\n      }\n    },\n    {\n      \"column\": \"CPU_Company\",\n      \"properties\": {\n        \"dtype\": \"category\",\n        \"num_unique_values\": 3,\n        \"samples\": [\n          \"Intel\",\n          \"AMD\",\n          \"Samsung\"\n        ],\n        \"semantic_type\": \"\",\n        \"description\": \"\"\n      }\n    },\n    {\n      \"column\": \"CPU_Type\",\n      \"properties\": {\n        \"dtype\": \"category\",\n        \"num_unique_values\": 93,\n        \"samples\": [\n          \"Core i7 7820HQ\",\n          \"Atom x5-Z8550\",\n          \"Core M m3-7Y30\"\n        ],\n        \"semantic_type\": \"\",\n        \"description\": \"\"\n      }\n    },\n    {\n      \"column\": \"CPU_Frequency (GHz)\",\n      \"properties\": {\n        \"dtype\": \"number\",\n        \"std\": 0.5038457085709569,\n        \"min\": 0.9,\n        \"max\": 3.6,\n        \"num_unique_values\": 25,\n        \"samples\": [\n          2.0,\n          1.1,\n          2.3\n        ],\n        \"semantic_type\": \"\",\n        \"description\": \"\"\n      }\n    },\n    {\n      \"column\": \"RAM (GB)\",\n      \"properties\": {\n        \"dtype\": \"number\",\n        \"std\": 5,\n        \"min\": 2,\n        \"max\": 64,\n        \"num_unique_values\": 9,\n        \"samples\": [\n          24,\n          16,\n          6\n        ],\n        \"semantic_type\": \"\",\n        \"description\": \"\"\n      }\n    },\n    {\n      \"column\": \"Memory\",\n      \"properties\": {\n        \"dtype\": \"category\",\n        \"num_unique_values\": 39,\n        \"samples\": [\n          \"240GB SSD\",\n          \"1.0TB HDD\",\n          \"500GB HDD\"\n        ],\n        \"semantic_type\": \"\",\n        \"description\": \"\"\n      }\n    },\n    {\n      \"column\": \"GPU_Company\",\n      \"properties\": {\n        \"dtype\": \"category\",\n        \"num_unique_values\": 4,\n        \"samples\": [\n          \"AMD\",\n          \"ARM\",\n          \"Intel\"\n        ],\n        \"semantic_type\": \"\",\n        \"description\": \"\"\n      }\n    },\n    {\n      \"column\": \"GPU_Type\",\n      \"properties\": {\n        \"dtype\": \"category\",\n        \"num_unique_values\": 106,\n        \"samples\": [\n          \"Radeon R5 M315\",\n          \"Radeon Pro 555\",\n          \"Iris Plus Graphics 650\"\n        ],\n        \"semantic_type\": \"\",\n        \"description\": \"\"\n      }\n    },\n    {\n      \"column\": \"OpSys\",\n      \"properties\": {\n        \"dtype\": \"category\",\n        \"num_unique_values\": 9,\n        \"samples\": [\n          \"Chrome OS\",\n          \"No OS\",\n          \"Android\"\n        ],\n        \"semantic_type\": \"\",\n        \"description\": \"\"\n      }\n    },\n    {\n      \"column\": \"Weight (kg)\",\n      \"properties\": {\n        \"dtype\": \"number\",\n        \"std\": 0.6691959759708271,\n        \"min\": 0.69,\n        \"max\": 4.7,\n        \"num_unique_values\": 171,\n        \"samples\": [\n          2.6,\n          2.05,\n          1.32\n        ],\n        \"semantic_type\": \"\",\n        \"description\": \"\"\n      }\n    },\n    {\n      \"column\": \"Price (Euro)\",\n      \"properties\": {\n        \"dtype\": \"number\",\n        \"std\": 700.7525041749287,\n        \"min\": 174.0,\n        \"max\": 6099.0,\n        \"num_unique_values\": 791,\n        \"samples\": [\n          1292.0,\n          389.0,\n          1798.0\n        ],\n        \"semantic_type\": \"\",\n        \"description\": \"\"\n      }\n    }\n  ]\n}"
            }
          },
          "metadata": {},
          "execution_count": 6
        }
      ],
      "execution_count": 6
    },
    {
      "cell_type": "code",
      "source": [
        "df.isnull().sum()"
      ],
      "metadata": {
        "trusted": true,
        "execution": {
          "iopub.status.busy": "2024-11-13T11:26:40.440073Z",
          "iopub.execute_input": "2024-11-13T11:26:40.440484Z",
          "iopub.status.idle": "2024-11-13T11:26:40.453064Z",
          "shell.execute_reply.started": "2024-11-13T11:26:40.440441Z",
          "shell.execute_reply": "2024-11-13T11:26:40.452172Z"
        },
        "id": "nLsbPK6WHGLk",
        "outputId": "2b410640-3d3f-427a-fd0e-3e468e00d91e",
        "colab": {
          "base_uri": "https://localhost:8080/",
          "height": 554
        }
      },
      "outputs": [
        {
          "output_type": "execute_result",
          "data": {
            "text/plain": [
              "Company                0\n",
              "Product                0\n",
              "TypeName               0\n",
              "Inches                 0\n",
              "ScreenResolution       0\n",
              "CPU_Company            0\n",
              "CPU_Type               0\n",
              "CPU_Frequency (GHz)    0\n",
              "RAM (GB)               0\n",
              "Memory                 0\n",
              "GPU_Company            0\n",
              "GPU_Type               0\n",
              "OpSys                  0\n",
              "Weight (kg)            0\n",
              "Price (Euro)           0\n",
              "dtype: int64"
            ],
            "text/html": [
              "<div>\n",
              "<style scoped>\n",
              "    .dataframe tbody tr th:only-of-type {\n",
              "        vertical-align: middle;\n",
              "    }\n",
              "\n",
              "    .dataframe tbody tr th {\n",
              "        vertical-align: top;\n",
              "    }\n",
              "\n",
              "    .dataframe thead th {\n",
              "        text-align: right;\n",
              "    }\n",
              "</style>\n",
              "<table border=\"1\" class=\"dataframe\">\n",
              "  <thead>\n",
              "    <tr style=\"text-align: right;\">\n",
              "      <th></th>\n",
              "      <th>0</th>\n",
              "    </tr>\n",
              "  </thead>\n",
              "  <tbody>\n",
              "    <tr>\n",
              "      <th>Company</th>\n",
              "      <td>0</td>\n",
              "    </tr>\n",
              "    <tr>\n",
              "      <th>Product</th>\n",
              "      <td>0</td>\n",
              "    </tr>\n",
              "    <tr>\n",
              "      <th>TypeName</th>\n",
              "      <td>0</td>\n",
              "    </tr>\n",
              "    <tr>\n",
              "      <th>Inches</th>\n",
              "      <td>0</td>\n",
              "    </tr>\n",
              "    <tr>\n",
              "      <th>ScreenResolution</th>\n",
              "      <td>0</td>\n",
              "    </tr>\n",
              "    <tr>\n",
              "      <th>CPU_Company</th>\n",
              "      <td>0</td>\n",
              "    </tr>\n",
              "    <tr>\n",
              "      <th>CPU_Type</th>\n",
              "      <td>0</td>\n",
              "    </tr>\n",
              "    <tr>\n",
              "      <th>CPU_Frequency (GHz)</th>\n",
              "      <td>0</td>\n",
              "    </tr>\n",
              "    <tr>\n",
              "      <th>RAM (GB)</th>\n",
              "      <td>0</td>\n",
              "    </tr>\n",
              "    <tr>\n",
              "      <th>Memory</th>\n",
              "      <td>0</td>\n",
              "    </tr>\n",
              "    <tr>\n",
              "      <th>GPU_Company</th>\n",
              "      <td>0</td>\n",
              "    </tr>\n",
              "    <tr>\n",
              "      <th>GPU_Type</th>\n",
              "      <td>0</td>\n",
              "    </tr>\n",
              "    <tr>\n",
              "      <th>OpSys</th>\n",
              "      <td>0</td>\n",
              "    </tr>\n",
              "    <tr>\n",
              "      <th>Weight (kg)</th>\n",
              "      <td>0</td>\n",
              "    </tr>\n",
              "    <tr>\n",
              "      <th>Price (Euro)</th>\n",
              "      <td>0</td>\n",
              "    </tr>\n",
              "  </tbody>\n",
              "</table>\n",
              "</div><br><label><b>dtype:</b> int64</label>"
            ]
          },
          "metadata": {},
          "execution_count": 7
        }
      ],
      "execution_count": 7
    },
    {
      "cell_type": "code",
      "source": [
        "df.info()"
      ],
      "metadata": {
        "trusted": true,
        "execution": {
          "iopub.status.busy": "2024-11-13T11:26:55.872132Z",
          "iopub.execute_input": "2024-11-13T11:26:55.872961Z",
          "iopub.status.idle": "2024-11-13T11:26:55.89997Z",
          "shell.execute_reply.started": "2024-11-13T11:26:55.872921Z",
          "shell.execute_reply": "2024-11-13T11:26:55.899031Z"
        },
        "id": "fhRbaSk3HGLk",
        "outputId": "d1b94d3d-d9aa-41ed-d10e-f3a390eaf864",
        "colab": {
          "base_uri": "https://localhost:8080/"
        }
      },
      "outputs": [
        {
          "output_type": "stream",
          "name": "stdout",
          "text": [
            "<class 'pandas.core.frame.DataFrame'>\n",
            "RangeIndex: 1275 entries, 0 to 1274\n",
            "Data columns (total 15 columns):\n",
            " #   Column               Non-Null Count  Dtype  \n",
            "---  ------               --------------  -----  \n",
            " 0   Company              1275 non-null   object \n",
            " 1   Product              1275 non-null   object \n",
            " 2   TypeName             1275 non-null   object \n",
            " 3   Inches               1275 non-null   float64\n",
            " 4   ScreenResolution     1275 non-null   object \n",
            " 5   CPU_Company          1275 non-null   object \n",
            " 6   CPU_Type             1275 non-null   object \n",
            " 7   CPU_Frequency (GHz)  1275 non-null   float64\n",
            " 8   RAM (GB)             1275 non-null   int64  \n",
            " 9   Memory               1275 non-null   object \n",
            " 10  GPU_Company          1275 non-null   object \n",
            " 11  GPU_Type             1275 non-null   object \n",
            " 12  OpSys                1275 non-null   object \n",
            " 13  Weight (kg)          1275 non-null   float64\n",
            " 14  Price (Euro)         1275 non-null   float64\n",
            "dtypes: float64(4), int64(1), object(10)\n",
            "memory usage: 149.5+ KB\n"
          ]
        }
      ],
      "execution_count": 8
    },
    {
      "cell_type": "code",
      "source": [
        "df.describe()"
      ],
      "metadata": {
        "trusted": true,
        "execution": {
          "iopub.status.busy": "2024-11-13T11:27:11.098498Z",
          "iopub.execute_input": "2024-11-13T11:27:11.099239Z",
          "iopub.status.idle": "2024-11-13T11:27:11.125163Z",
          "shell.execute_reply.started": "2024-11-13T11:27:11.099196Z",
          "shell.execute_reply": "2024-11-13T11:27:11.124288Z"
        },
        "id": "Ma3SPCLxHGLk",
        "outputId": "12943a5d-b86d-4186-fab3-1b08df1d8983",
        "colab": {
          "base_uri": "https://localhost:8080/",
          "height": 300
        }
      },
      "outputs": [
        {
          "output_type": "execute_result",
          "data": {
            "text/plain": [
              "            Inches  CPU_Frequency (GHz)     RAM (GB)  Weight (kg)  \\\n",
              "count  1275.000000          1275.000000  1275.000000  1275.000000   \n",
              "mean     15.022902             2.302980     8.440784     2.040525   \n",
              "std       1.429470             0.503846     5.097809     0.669196   \n",
              "min      10.100000             0.900000     2.000000     0.690000   \n",
              "25%      14.000000             2.000000     4.000000     1.500000   \n",
              "50%      15.600000             2.500000     8.000000     2.040000   \n",
              "75%      15.600000             2.700000     8.000000     2.310000   \n",
              "max      18.400000             3.600000    64.000000     4.700000   \n",
              "\n",
              "       Price (Euro)  \n",
              "count   1275.000000  \n",
              "mean    1134.969059  \n",
              "std      700.752504  \n",
              "min      174.000000  \n",
              "25%      609.000000  \n",
              "50%      989.000000  \n",
              "75%     1496.500000  \n",
              "max     6099.000000  "
            ],
            "text/html": [
              "\n",
              "  <div id=\"df-70e74cf3-6fe4-480a-a366-edf658c917d0\" class=\"colab-df-container\">\n",
              "    <div>\n",
              "<style scoped>\n",
              "    .dataframe tbody tr th:only-of-type {\n",
              "        vertical-align: middle;\n",
              "    }\n",
              "\n",
              "    .dataframe tbody tr th {\n",
              "        vertical-align: top;\n",
              "    }\n",
              "\n",
              "    .dataframe thead th {\n",
              "        text-align: right;\n",
              "    }\n",
              "</style>\n",
              "<table border=\"1\" class=\"dataframe\">\n",
              "  <thead>\n",
              "    <tr style=\"text-align: right;\">\n",
              "      <th></th>\n",
              "      <th>Inches</th>\n",
              "      <th>CPU_Frequency (GHz)</th>\n",
              "      <th>RAM (GB)</th>\n",
              "      <th>Weight (kg)</th>\n",
              "      <th>Price (Euro)</th>\n",
              "    </tr>\n",
              "  </thead>\n",
              "  <tbody>\n",
              "    <tr>\n",
              "      <th>count</th>\n",
              "      <td>1275.000000</td>\n",
              "      <td>1275.000000</td>\n",
              "      <td>1275.000000</td>\n",
              "      <td>1275.000000</td>\n",
              "      <td>1275.000000</td>\n",
              "    </tr>\n",
              "    <tr>\n",
              "      <th>mean</th>\n",
              "      <td>15.022902</td>\n",
              "      <td>2.302980</td>\n",
              "      <td>8.440784</td>\n",
              "      <td>2.040525</td>\n",
              "      <td>1134.969059</td>\n",
              "    </tr>\n",
              "    <tr>\n",
              "      <th>std</th>\n",
              "      <td>1.429470</td>\n",
              "      <td>0.503846</td>\n",
              "      <td>5.097809</td>\n",
              "      <td>0.669196</td>\n",
              "      <td>700.752504</td>\n",
              "    </tr>\n",
              "    <tr>\n",
              "      <th>min</th>\n",
              "      <td>10.100000</td>\n",
              "      <td>0.900000</td>\n",
              "      <td>2.000000</td>\n",
              "      <td>0.690000</td>\n",
              "      <td>174.000000</td>\n",
              "    </tr>\n",
              "    <tr>\n",
              "      <th>25%</th>\n",
              "      <td>14.000000</td>\n",
              "      <td>2.000000</td>\n",
              "      <td>4.000000</td>\n",
              "      <td>1.500000</td>\n",
              "      <td>609.000000</td>\n",
              "    </tr>\n",
              "    <tr>\n",
              "      <th>50%</th>\n",
              "      <td>15.600000</td>\n",
              "      <td>2.500000</td>\n",
              "      <td>8.000000</td>\n",
              "      <td>2.040000</td>\n",
              "      <td>989.000000</td>\n",
              "    </tr>\n",
              "    <tr>\n",
              "      <th>75%</th>\n",
              "      <td>15.600000</td>\n",
              "      <td>2.700000</td>\n",
              "      <td>8.000000</td>\n",
              "      <td>2.310000</td>\n",
              "      <td>1496.500000</td>\n",
              "    </tr>\n",
              "    <tr>\n",
              "      <th>max</th>\n",
              "      <td>18.400000</td>\n",
              "      <td>3.600000</td>\n",
              "      <td>64.000000</td>\n",
              "      <td>4.700000</td>\n",
              "      <td>6099.000000</td>\n",
              "    </tr>\n",
              "  </tbody>\n",
              "</table>\n",
              "</div>\n",
              "    <div class=\"colab-df-buttons\">\n",
              "\n",
              "  <div class=\"colab-df-container\">\n",
              "    <button class=\"colab-df-convert\" onclick=\"convertToInteractive('df-70e74cf3-6fe4-480a-a366-edf658c917d0')\"\n",
              "            title=\"Convert this dataframe to an interactive table.\"\n",
              "            style=\"display:none;\">\n",
              "\n",
              "  <svg xmlns=\"http://www.w3.org/2000/svg\" height=\"24px\" viewBox=\"0 -960 960 960\">\n",
              "    <path d=\"M120-120v-720h720v720H120Zm60-500h600v-160H180v160Zm220 220h160v-160H400v160Zm0 220h160v-160H400v160ZM180-400h160v-160H180v160Zm440 0h160v-160H620v160ZM180-180h160v-160H180v160Zm440 0h160v-160H620v160Z\"/>\n",
              "  </svg>\n",
              "    </button>\n",
              "\n",
              "  <style>\n",
              "    .colab-df-container {\n",
              "      display:flex;\n",
              "      gap: 12px;\n",
              "    }\n",
              "\n",
              "    .colab-df-convert {\n",
              "      background-color: #E8F0FE;\n",
              "      border: none;\n",
              "      border-radius: 50%;\n",
              "      cursor: pointer;\n",
              "      display: none;\n",
              "      fill: #1967D2;\n",
              "      height: 32px;\n",
              "      padding: 0 0 0 0;\n",
              "      width: 32px;\n",
              "    }\n",
              "\n",
              "    .colab-df-convert:hover {\n",
              "      background-color: #E2EBFA;\n",
              "      box-shadow: 0px 1px 2px rgba(60, 64, 67, 0.3), 0px 1px 3px 1px rgba(60, 64, 67, 0.15);\n",
              "      fill: #174EA6;\n",
              "    }\n",
              "\n",
              "    .colab-df-buttons div {\n",
              "      margin-bottom: 4px;\n",
              "    }\n",
              "\n",
              "    [theme=dark] .colab-df-convert {\n",
              "      background-color: #3B4455;\n",
              "      fill: #D2E3FC;\n",
              "    }\n",
              "\n",
              "    [theme=dark] .colab-df-convert:hover {\n",
              "      background-color: #434B5C;\n",
              "      box-shadow: 0px 1px 3px 1px rgba(0, 0, 0, 0.15);\n",
              "      filter: drop-shadow(0px 1px 2px rgba(0, 0, 0, 0.3));\n",
              "      fill: #FFFFFF;\n",
              "    }\n",
              "  </style>\n",
              "\n",
              "    <script>\n",
              "      const buttonEl =\n",
              "        document.querySelector('#df-70e74cf3-6fe4-480a-a366-edf658c917d0 button.colab-df-convert');\n",
              "      buttonEl.style.display =\n",
              "        google.colab.kernel.accessAllowed ? 'block' : 'none';\n",
              "\n",
              "      async function convertToInteractive(key) {\n",
              "        const element = document.querySelector('#df-70e74cf3-6fe4-480a-a366-edf658c917d0');\n",
              "        const dataTable =\n",
              "          await google.colab.kernel.invokeFunction('convertToInteractive',\n",
              "                                                    [key], {});\n",
              "        if (!dataTable) return;\n",
              "\n",
              "        const docLinkHtml = 'Like what you see? Visit the ' +\n",
              "          '<a target=\"_blank\" href=https://colab.research.google.com/notebooks/data_table.ipynb>data table notebook</a>'\n",
              "          + ' to learn more about interactive tables.';\n",
              "        element.innerHTML = '';\n",
              "        dataTable['output_type'] = 'display_data';\n",
              "        await google.colab.output.renderOutput(dataTable, element);\n",
              "        const docLink = document.createElement('div');\n",
              "        docLink.innerHTML = docLinkHtml;\n",
              "        element.appendChild(docLink);\n",
              "      }\n",
              "    </script>\n",
              "  </div>\n",
              "\n",
              "\n",
              "<div id=\"df-ccc02ac6-eb8c-4b3b-bfee-e70e8fd219db\">\n",
              "  <button class=\"colab-df-quickchart\" onclick=\"quickchart('df-ccc02ac6-eb8c-4b3b-bfee-e70e8fd219db')\"\n",
              "            title=\"Suggest charts\"\n",
              "            style=\"display:none;\">\n",
              "\n",
              "<svg xmlns=\"http://www.w3.org/2000/svg\" height=\"24px\"viewBox=\"0 0 24 24\"\n",
              "     width=\"24px\">\n",
              "    <g>\n",
              "        <path d=\"M19 3H5c-1.1 0-2 .9-2 2v14c0 1.1.9 2 2 2h14c1.1 0 2-.9 2-2V5c0-1.1-.9-2-2-2zM9 17H7v-7h2v7zm4 0h-2V7h2v10zm4 0h-2v-4h2v4z\"/>\n",
              "    </g>\n",
              "</svg>\n",
              "  </button>\n",
              "\n",
              "<style>\n",
              "  .colab-df-quickchart {\n",
              "      --bg-color: #E8F0FE;\n",
              "      --fill-color: #1967D2;\n",
              "      --hover-bg-color: #E2EBFA;\n",
              "      --hover-fill-color: #174EA6;\n",
              "      --disabled-fill-color: #AAA;\n",
              "      --disabled-bg-color: #DDD;\n",
              "  }\n",
              "\n",
              "  [theme=dark] .colab-df-quickchart {\n",
              "      --bg-color: #3B4455;\n",
              "      --fill-color: #D2E3FC;\n",
              "      --hover-bg-color: #434B5C;\n",
              "      --hover-fill-color: #FFFFFF;\n",
              "      --disabled-bg-color: #3B4455;\n",
              "      --disabled-fill-color: #666;\n",
              "  }\n",
              "\n",
              "  .colab-df-quickchart {\n",
              "    background-color: var(--bg-color);\n",
              "    border: none;\n",
              "    border-radius: 50%;\n",
              "    cursor: pointer;\n",
              "    display: none;\n",
              "    fill: var(--fill-color);\n",
              "    height: 32px;\n",
              "    padding: 0;\n",
              "    width: 32px;\n",
              "  }\n",
              "\n",
              "  .colab-df-quickchart:hover {\n",
              "    background-color: var(--hover-bg-color);\n",
              "    box-shadow: 0 1px 2px rgba(60, 64, 67, 0.3), 0 1px 3px 1px rgba(60, 64, 67, 0.15);\n",
              "    fill: var(--button-hover-fill-color);\n",
              "  }\n",
              "\n",
              "  .colab-df-quickchart-complete:disabled,\n",
              "  .colab-df-quickchart-complete:disabled:hover {\n",
              "    background-color: var(--disabled-bg-color);\n",
              "    fill: var(--disabled-fill-color);\n",
              "    box-shadow: none;\n",
              "  }\n",
              "\n",
              "  .colab-df-spinner {\n",
              "    border: 2px solid var(--fill-color);\n",
              "    border-color: transparent;\n",
              "    border-bottom-color: var(--fill-color);\n",
              "    animation:\n",
              "      spin 1s steps(1) infinite;\n",
              "  }\n",
              "\n",
              "  @keyframes spin {\n",
              "    0% {\n",
              "      border-color: transparent;\n",
              "      border-bottom-color: var(--fill-color);\n",
              "      border-left-color: var(--fill-color);\n",
              "    }\n",
              "    20% {\n",
              "      border-color: transparent;\n",
              "      border-left-color: var(--fill-color);\n",
              "      border-top-color: var(--fill-color);\n",
              "    }\n",
              "    30% {\n",
              "      border-color: transparent;\n",
              "      border-left-color: var(--fill-color);\n",
              "      border-top-color: var(--fill-color);\n",
              "      border-right-color: var(--fill-color);\n",
              "    }\n",
              "    40% {\n",
              "      border-color: transparent;\n",
              "      border-right-color: var(--fill-color);\n",
              "      border-top-color: var(--fill-color);\n",
              "    }\n",
              "    60% {\n",
              "      border-color: transparent;\n",
              "      border-right-color: var(--fill-color);\n",
              "    }\n",
              "    80% {\n",
              "      border-color: transparent;\n",
              "      border-right-color: var(--fill-color);\n",
              "      border-bottom-color: var(--fill-color);\n",
              "    }\n",
              "    90% {\n",
              "      border-color: transparent;\n",
              "      border-bottom-color: var(--fill-color);\n",
              "    }\n",
              "  }\n",
              "</style>\n",
              "\n",
              "  <script>\n",
              "    async function quickchart(key) {\n",
              "      const quickchartButtonEl =\n",
              "        document.querySelector('#' + key + ' button');\n",
              "      quickchartButtonEl.disabled = true;  // To prevent multiple clicks.\n",
              "      quickchartButtonEl.classList.add('colab-df-spinner');\n",
              "      try {\n",
              "        const charts = await google.colab.kernel.invokeFunction(\n",
              "            'suggestCharts', [key], {});\n",
              "      } catch (error) {\n",
              "        console.error('Error during call to suggestCharts:', error);\n",
              "      }\n",
              "      quickchartButtonEl.classList.remove('colab-df-spinner');\n",
              "      quickchartButtonEl.classList.add('colab-df-quickchart-complete');\n",
              "    }\n",
              "    (() => {\n",
              "      let quickchartButtonEl =\n",
              "        document.querySelector('#df-ccc02ac6-eb8c-4b3b-bfee-e70e8fd219db button');\n",
              "      quickchartButtonEl.style.display =\n",
              "        google.colab.kernel.accessAllowed ? 'block' : 'none';\n",
              "    })();\n",
              "  </script>\n",
              "</div>\n",
              "\n",
              "    </div>\n",
              "  </div>\n"
            ],
            "application/vnd.google.colaboratory.intrinsic+json": {
              "type": "dataframe",
              "summary": "{\n  \"name\": \"df\",\n  \"rows\": 8,\n  \"fields\": [\n    {\n      \"column\": \"Inches\",\n      \"properties\": {\n        \"dtype\": \"number\",\n        \"std\": 446.2575963637752,\n        \"min\": 1.4294698446247902,\n        \"max\": 1275.0,\n        \"num_unique_values\": 7,\n        \"samples\": [\n          1275.0,\n          15.022901960784312,\n          15.6\n        ],\n        \"semantic_type\": \"\",\n        \"description\": \"\"\n      }\n    },\n    {\n      \"column\": \"CPU_Frequency (GHz)\",\n      \"properties\": {\n        \"dtype\": \"number\",\n        \"std\": 450.0489474584384,\n        \"min\": 0.5038457085709569,\n        \"max\": 1275.0,\n        \"num_unique_values\": 8,\n        \"samples\": [\n          2.302980392156863,\n          2.5,\n          1275.0\n        ],\n        \"semantic_type\": \"\",\n        \"description\": \"\"\n      }\n    },\n    {\n      \"column\": \"RAM (GB)\",\n      \"properties\": {\n        \"dtype\": \"number\",\n        \"std\": 446.22170839681405,\n        \"min\": 2.0,\n        \"max\": 1275.0,\n        \"num_unique_values\": 7,\n        \"samples\": [\n          1275.0,\n          8.44078431372549,\n          8.0\n        ],\n        \"semantic_type\": \"\",\n        \"description\": \"\"\n      }\n    },\n    {\n      \"column\": \"Weight (kg)\",\n      \"properties\": {\n        \"dtype\": \"number\",\n        \"std\": 450.07777142385805,\n        \"min\": 0.6691959759708271,\n        \"max\": 1275.0,\n        \"num_unique_values\": 8,\n        \"samples\": [\n          2.0405254901960785,\n          2.04,\n          1275.0\n        ],\n        \"semantic_type\": \"\",\n        \"description\": \"\"\n      }\n    },\n    {\n      \"column\": \"Price (Euro)\",\n      \"properties\": {\n        \"dtype\": \"number\",\n        \"std\": 1880.659968304601,\n        \"min\": 174.0,\n        \"max\": 6099.0,\n        \"num_unique_values\": 8,\n        \"samples\": [\n          1134.9690588235292,\n          989.0,\n          1275.0\n        ],\n        \"semantic_type\": \"\",\n        \"description\": \"\"\n      }\n    }\n  ]\n}"
            }
          },
          "metadata": {},
          "execution_count": 9
        }
      ],
      "execution_count": 9
    },
    {
      "cell_type": "code",
      "source": [
        "df.shape"
      ],
      "metadata": {
        "trusted": true,
        "execution": {
          "iopub.status.busy": "2024-11-13T11:27:21.010969Z",
          "iopub.execute_input": "2024-11-13T11:27:21.01178Z",
          "iopub.status.idle": "2024-11-13T11:27:21.018194Z",
          "shell.execute_reply.started": "2024-11-13T11:27:21.01173Z",
          "shell.execute_reply": "2024-11-13T11:27:21.017197Z"
        },
        "id": "Riu3ni8wHGLl",
        "outputId": "eca5f8ce-1f79-49b7-efee-4fa5c808b3d6",
        "colab": {
          "base_uri": "https://localhost:8080/"
        }
      },
      "outputs": [
        {
          "output_type": "execute_result",
          "data": {
            "text/plain": [
              "(1275, 15)"
            ]
          },
          "metadata": {},
          "execution_count": 10
        }
      ],
      "execution_count": 10
    },
    {
      "cell_type": "code",
      "source": [
        "df.columns"
      ],
      "metadata": {
        "trusted": true,
        "execution": {
          "iopub.status.busy": "2024-11-13T11:27:35.798693Z",
          "iopub.execute_input": "2024-11-13T11:27:35.799219Z",
          "iopub.status.idle": "2024-11-13T11:27:35.80615Z",
          "shell.execute_reply.started": "2024-11-13T11:27:35.799158Z",
          "shell.execute_reply": "2024-11-13T11:27:35.805171Z"
        },
        "id": "1qBLk9e0HGLl",
        "outputId": "8a535cbf-ab4d-4816-fdd4-55cba0cd05fa",
        "colab": {
          "base_uri": "https://localhost:8080/"
        }
      },
      "outputs": [
        {
          "output_type": "execute_result",
          "data": {
            "text/plain": [
              "Index(['Company', 'Product', 'TypeName', 'Inches', 'ScreenResolution',\n",
              "       'CPU_Company', 'CPU_Type', 'CPU_Frequency (GHz)', 'RAM (GB)', 'Memory',\n",
              "       'GPU_Company', 'GPU_Type', 'OpSys', 'Weight (kg)', 'Price (Euro)'],\n",
              "      dtype='object')"
            ]
          },
          "metadata": {},
          "execution_count": 11
        }
      ],
      "execution_count": 11
    },
    {
      "cell_type": "code",
      "source": [
        "df.duplicated().sum().item()"
      ],
      "metadata": {
        "trusted": true,
        "execution": {
          "iopub.status.busy": "2024-11-13T11:29:09.984861Z",
          "iopub.execute_input": "2024-11-13T11:29:09.98525Z",
          "iopub.status.idle": "2024-11-13T11:29:09.995904Z",
          "shell.execute_reply.started": "2024-11-13T11:29:09.985214Z",
          "shell.execute_reply": "2024-11-13T11:29:09.995061Z"
        },
        "id": "EaqG4CAeHGLl",
        "outputId": "142039b9-9c04-4e28-9ded-a11fbd6ebfc8",
        "colab": {
          "base_uri": "https://localhost:8080/"
        }
      },
      "outputs": [
        {
          "output_type": "execute_result",
          "data": {
            "text/plain": [
              "0"
            ]
          },
          "metadata": {},
          "execution_count": 12
        }
      ],
      "execution_count": 12
    },
    {
      "cell_type": "code",
      "source": [
        "df.describe(include='all')"
      ],
      "metadata": {
        "trusted": true,
        "execution": {
          "iopub.status.busy": "2024-11-13T11:29:35.851716Z",
          "iopub.execute_input": "2024-11-13T11:29:35.85257Z",
          "iopub.status.idle": "2024-11-13T11:29:35.901766Z",
          "shell.execute_reply.started": "2024-11-13T11:29:35.85253Z",
          "shell.execute_reply": "2024-11-13T11:29:35.900817Z"
        },
        "id": "8gOCvQ4nHGLm",
        "outputId": "94f1bfcd-2c1b-44a2-8320-552c4d91ff69",
        "colab": {
          "base_uri": "https://localhost:8080/",
          "height": 466
        }
      },
      "outputs": [
        {
          "output_type": "execute_result",
          "data": {
            "text/plain": [
              "       Company Product  TypeName       Inches   ScreenResolution CPU_Company  \\\n",
              "count     1275    1275      1275  1275.000000               1275        1275   \n",
              "unique      19     618         6          NaN                 40           3   \n",
              "top       Dell  XPS 13  Notebook          NaN  Full HD 1920x1080       Intel   \n",
              "freq       291      30       707          NaN                505        1214   \n",
              "mean       NaN     NaN       NaN    15.022902                NaN         NaN   \n",
              "std        NaN     NaN       NaN     1.429470                NaN         NaN   \n",
              "min        NaN     NaN       NaN    10.100000                NaN         NaN   \n",
              "25%        NaN     NaN       NaN    14.000000                NaN         NaN   \n",
              "50%        NaN     NaN       NaN    15.600000                NaN         NaN   \n",
              "75%        NaN     NaN       NaN    15.600000                NaN         NaN   \n",
              "max        NaN     NaN       NaN    18.400000                NaN         NaN   \n",
              "\n",
              "             CPU_Type  CPU_Frequency (GHz)     RAM (GB)     Memory  \\\n",
              "count            1275          1275.000000  1275.000000       1275   \n",
              "unique             93                  NaN          NaN         39   \n",
              "top     Core i5 7200U                  NaN          NaN  256GB SSD   \n",
              "freq              193                  NaN          NaN        412   \n",
              "mean              NaN             2.302980     8.440784        NaN   \n",
              "std               NaN             0.503846     5.097809        NaN   \n",
              "min               NaN             0.900000     2.000000        NaN   \n",
              "25%               NaN             2.000000     4.000000        NaN   \n",
              "50%               NaN             2.500000     8.000000        NaN   \n",
              "75%               NaN             2.700000     8.000000        NaN   \n",
              "max               NaN             3.600000    64.000000        NaN   \n",
              "\n",
              "       GPU_Company         GPU_Type       OpSys  Weight (kg)  Price (Euro)  \n",
              "count         1275             1275        1275  1275.000000   1275.000000  \n",
              "unique           4              106           9          NaN           NaN  \n",
              "top          Intel  HD Graphics 620  Windows 10          NaN           NaN  \n",
              "freq           704              280        1048          NaN           NaN  \n",
              "mean           NaN              NaN         NaN     2.040525   1134.969059  \n",
              "std            NaN              NaN         NaN     0.669196    700.752504  \n",
              "min            NaN              NaN         NaN     0.690000    174.000000  \n",
              "25%            NaN              NaN         NaN     1.500000    609.000000  \n",
              "50%            NaN              NaN         NaN     2.040000    989.000000  \n",
              "75%            NaN              NaN         NaN     2.310000   1496.500000  \n",
              "max            NaN              NaN         NaN     4.700000   6099.000000  "
            ],
            "text/html": [
              "\n",
              "  <div id=\"df-2e930b49-2cac-4658-98f0-560698330753\" class=\"colab-df-container\">\n",
              "    <div>\n",
              "<style scoped>\n",
              "    .dataframe tbody tr th:only-of-type {\n",
              "        vertical-align: middle;\n",
              "    }\n",
              "\n",
              "    .dataframe tbody tr th {\n",
              "        vertical-align: top;\n",
              "    }\n",
              "\n",
              "    .dataframe thead th {\n",
              "        text-align: right;\n",
              "    }\n",
              "</style>\n",
              "<table border=\"1\" class=\"dataframe\">\n",
              "  <thead>\n",
              "    <tr style=\"text-align: right;\">\n",
              "      <th></th>\n",
              "      <th>Company</th>\n",
              "      <th>Product</th>\n",
              "      <th>TypeName</th>\n",
              "      <th>Inches</th>\n",
              "      <th>ScreenResolution</th>\n",
              "      <th>CPU_Company</th>\n",
              "      <th>CPU_Type</th>\n",
              "      <th>CPU_Frequency (GHz)</th>\n",
              "      <th>RAM (GB)</th>\n",
              "      <th>Memory</th>\n",
              "      <th>GPU_Company</th>\n",
              "      <th>GPU_Type</th>\n",
              "      <th>OpSys</th>\n",
              "      <th>Weight (kg)</th>\n",
              "      <th>Price (Euro)</th>\n",
              "    </tr>\n",
              "  </thead>\n",
              "  <tbody>\n",
              "    <tr>\n",
              "      <th>count</th>\n",
              "      <td>1275</td>\n",
              "      <td>1275</td>\n",
              "      <td>1275</td>\n",
              "      <td>1275.000000</td>\n",
              "      <td>1275</td>\n",
              "      <td>1275</td>\n",
              "      <td>1275</td>\n",
              "      <td>1275.000000</td>\n",
              "      <td>1275.000000</td>\n",
              "      <td>1275</td>\n",
              "      <td>1275</td>\n",
              "      <td>1275</td>\n",
              "      <td>1275</td>\n",
              "      <td>1275.000000</td>\n",
              "      <td>1275.000000</td>\n",
              "    </tr>\n",
              "    <tr>\n",
              "      <th>unique</th>\n",
              "      <td>19</td>\n",
              "      <td>618</td>\n",
              "      <td>6</td>\n",
              "      <td>NaN</td>\n",
              "      <td>40</td>\n",
              "      <td>3</td>\n",
              "      <td>93</td>\n",
              "      <td>NaN</td>\n",
              "      <td>NaN</td>\n",
              "      <td>39</td>\n",
              "      <td>4</td>\n",
              "      <td>106</td>\n",
              "      <td>9</td>\n",
              "      <td>NaN</td>\n",
              "      <td>NaN</td>\n",
              "    </tr>\n",
              "    <tr>\n",
              "      <th>top</th>\n",
              "      <td>Dell</td>\n",
              "      <td>XPS 13</td>\n",
              "      <td>Notebook</td>\n",
              "      <td>NaN</td>\n",
              "      <td>Full HD 1920x1080</td>\n",
              "      <td>Intel</td>\n",
              "      <td>Core i5 7200U</td>\n",
              "      <td>NaN</td>\n",
              "      <td>NaN</td>\n",
              "      <td>256GB SSD</td>\n",
              "      <td>Intel</td>\n",
              "      <td>HD Graphics 620</td>\n",
              "      <td>Windows 10</td>\n",
              "      <td>NaN</td>\n",
              "      <td>NaN</td>\n",
              "    </tr>\n",
              "    <tr>\n",
              "      <th>freq</th>\n",
              "      <td>291</td>\n",
              "      <td>30</td>\n",
              "      <td>707</td>\n",
              "      <td>NaN</td>\n",
              "      <td>505</td>\n",
              "      <td>1214</td>\n",
              "      <td>193</td>\n",
              "      <td>NaN</td>\n",
              "      <td>NaN</td>\n",
              "      <td>412</td>\n",
              "      <td>704</td>\n",
              "      <td>280</td>\n",
              "      <td>1048</td>\n",
              "      <td>NaN</td>\n",
              "      <td>NaN</td>\n",
              "    </tr>\n",
              "    <tr>\n",
              "      <th>mean</th>\n",
              "      <td>NaN</td>\n",
              "      <td>NaN</td>\n",
              "      <td>NaN</td>\n",
              "      <td>15.022902</td>\n",
              "      <td>NaN</td>\n",
              "      <td>NaN</td>\n",
              "      <td>NaN</td>\n",
              "      <td>2.302980</td>\n",
              "      <td>8.440784</td>\n",
              "      <td>NaN</td>\n",
              "      <td>NaN</td>\n",
              "      <td>NaN</td>\n",
              "      <td>NaN</td>\n",
              "      <td>2.040525</td>\n",
              "      <td>1134.969059</td>\n",
              "    </tr>\n",
              "    <tr>\n",
              "      <th>std</th>\n",
              "      <td>NaN</td>\n",
              "      <td>NaN</td>\n",
              "      <td>NaN</td>\n",
              "      <td>1.429470</td>\n",
              "      <td>NaN</td>\n",
              "      <td>NaN</td>\n",
              "      <td>NaN</td>\n",
              "      <td>0.503846</td>\n",
              "      <td>5.097809</td>\n",
              "      <td>NaN</td>\n",
              "      <td>NaN</td>\n",
              "      <td>NaN</td>\n",
              "      <td>NaN</td>\n",
              "      <td>0.669196</td>\n",
              "      <td>700.752504</td>\n",
              "    </tr>\n",
              "    <tr>\n",
              "      <th>min</th>\n",
              "      <td>NaN</td>\n",
              "      <td>NaN</td>\n",
              "      <td>NaN</td>\n",
              "      <td>10.100000</td>\n",
              "      <td>NaN</td>\n",
              "      <td>NaN</td>\n",
              "      <td>NaN</td>\n",
              "      <td>0.900000</td>\n",
              "      <td>2.000000</td>\n",
              "      <td>NaN</td>\n",
              "      <td>NaN</td>\n",
              "      <td>NaN</td>\n",
              "      <td>NaN</td>\n",
              "      <td>0.690000</td>\n",
              "      <td>174.000000</td>\n",
              "    </tr>\n",
              "    <tr>\n",
              "      <th>25%</th>\n",
              "      <td>NaN</td>\n",
              "      <td>NaN</td>\n",
              "      <td>NaN</td>\n",
              "      <td>14.000000</td>\n",
              "      <td>NaN</td>\n",
              "      <td>NaN</td>\n",
              "      <td>NaN</td>\n",
              "      <td>2.000000</td>\n",
              "      <td>4.000000</td>\n",
              "      <td>NaN</td>\n",
              "      <td>NaN</td>\n",
              "      <td>NaN</td>\n",
              "      <td>NaN</td>\n",
              "      <td>1.500000</td>\n",
              "      <td>609.000000</td>\n",
              "    </tr>\n",
              "    <tr>\n",
              "      <th>50%</th>\n",
              "      <td>NaN</td>\n",
              "      <td>NaN</td>\n",
              "      <td>NaN</td>\n",
              "      <td>15.600000</td>\n",
              "      <td>NaN</td>\n",
              "      <td>NaN</td>\n",
              "      <td>NaN</td>\n",
              "      <td>2.500000</td>\n",
              "      <td>8.000000</td>\n",
              "      <td>NaN</td>\n",
              "      <td>NaN</td>\n",
              "      <td>NaN</td>\n",
              "      <td>NaN</td>\n",
              "      <td>2.040000</td>\n",
              "      <td>989.000000</td>\n",
              "    </tr>\n",
              "    <tr>\n",
              "      <th>75%</th>\n",
              "      <td>NaN</td>\n",
              "      <td>NaN</td>\n",
              "      <td>NaN</td>\n",
              "      <td>15.600000</td>\n",
              "      <td>NaN</td>\n",
              "      <td>NaN</td>\n",
              "      <td>NaN</td>\n",
              "      <td>2.700000</td>\n",
              "      <td>8.000000</td>\n",
              "      <td>NaN</td>\n",
              "      <td>NaN</td>\n",
              "      <td>NaN</td>\n",
              "      <td>NaN</td>\n",
              "      <td>2.310000</td>\n",
              "      <td>1496.500000</td>\n",
              "    </tr>\n",
              "    <tr>\n",
              "      <th>max</th>\n",
              "      <td>NaN</td>\n",
              "      <td>NaN</td>\n",
              "      <td>NaN</td>\n",
              "      <td>18.400000</td>\n",
              "      <td>NaN</td>\n",
              "      <td>NaN</td>\n",
              "      <td>NaN</td>\n",
              "      <td>3.600000</td>\n",
              "      <td>64.000000</td>\n",
              "      <td>NaN</td>\n",
              "      <td>NaN</td>\n",
              "      <td>NaN</td>\n",
              "      <td>NaN</td>\n",
              "      <td>4.700000</td>\n",
              "      <td>6099.000000</td>\n",
              "    </tr>\n",
              "  </tbody>\n",
              "</table>\n",
              "</div>\n",
              "    <div class=\"colab-df-buttons\">\n",
              "\n",
              "  <div class=\"colab-df-container\">\n",
              "    <button class=\"colab-df-convert\" onclick=\"convertToInteractive('df-2e930b49-2cac-4658-98f0-560698330753')\"\n",
              "            title=\"Convert this dataframe to an interactive table.\"\n",
              "            style=\"display:none;\">\n",
              "\n",
              "  <svg xmlns=\"http://www.w3.org/2000/svg\" height=\"24px\" viewBox=\"0 -960 960 960\">\n",
              "    <path d=\"M120-120v-720h720v720H120Zm60-500h600v-160H180v160Zm220 220h160v-160H400v160Zm0 220h160v-160H400v160ZM180-400h160v-160H180v160Zm440 0h160v-160H620v160ZM180-180h160v-160H180v160Zm440 0h160v-160H620v160Z\"/>\n",
              "  </svg>\n",
              "    </button>\n",
              "\n",
              "  <style>\n",
              "    .colab-df-container {\n",
              "      display:flex;\n",
              "      gap: 12px;\n",
              "    }\n",
              "\n",
              "    .colab-df-convert {\n",
              "      background-color: #E8F0FE;\n",
              "      border: none;\n",
              "      border-radius: 50%;\n",
              "      cursor: pointer;\n",
              "      display: none;\n",
              "      fill: #1967D2;\n",
              "      height: 32px;\n",
              "      padding: 0 0 0 0;\n",
              "      width: 32px;\n",
              "    }\n",
              "\n",
              "    .colab-df-convert:hover {\n",
              "      background-color: #E2EBFA;\n",
              "      box-shadow: 0px 1px 2px rgba(60, 64, 67, 0.3), 0px 1px 3px 1px rgba(60, 64, 67, 0.15);\n",
              "      fill: #174EA6;\n",
              "    }\n",
              "\n",
              "    .colab-df-buttons div {\n",
              "      margin-bottom: 4px;\n",
              "    }\n",
              "\n",
              "    [theme=dark] .colab-df-convert {\n",
              "      background-color: #3B4455;\n",
              "      fill: #D2E3FC;\n",
              "    }\n",
              "\n",
              "    [theme=dark] .colab-df-convert:hover {\n",
              "      background-color: #434B5C;\n",
              "      box-shadow: 0px 1px 3px 1px rgba(0, 0, 0, 0.15);\n",
              "      filter: drop-shadow(0px 1px 2px rgba(0, 0, 0, 0.3));\n",
              "      fill: #FFFFFF;\n",
              "    }\n",
              "  </style>\n",
              "\n",
              "    <script>\n",
              "      const buttonEl =\n",
              "        document.querySelector('#df-2e930b49-2cac-4658-98f0-560698330753 button.colab-df-convert');\n",
              "      buttonEl.style.display =\n",
              "        google.colab.kernel.accessAllowed ? 'block' : 'none';\n",
              "\n",
              "      async function convertToInteractive(key) {\n",
              "        const element = document.querySelector('#df-2e930b49-2cac-4658-98f0-560698330753');\n",
              "        const dataTable =\n",
              "          await google.colab.kernel.invokeFunction('convertToInteractive',\n",
              "                                                    [key], {});\n",
              "        if (!dataTable) return;\n",
              "\n",
              "        const docLinkHtml = 'Like what you see? Visit the ' +\n",
              "          '<a target=\"_blank\" href=https://colab.research.google.com/notebooks/data_table.ipynb>data table notebook</a>'\n",
              "          + ' to learn more about interactive tables.';\n",
              "        element.innerHTML = '';\n",
              "        dataTable['output_type'] = 'display_data';\n",
              "        await google.colab.output.renderOutput(dataTable, element);\n",
              "        const docLink = document.createElement('div');\n",
              "        docLink.innerHTML = docLinkHtml;\n",
              "        element.appendChild(docLink);\n",
              "      }\n",
              "    </script>\n",
              "  </div>\n",
              "\n",
              "\n",
              "<div id=\"df-0129ff60-fa70-425e-973b-47ce3795ef6f\">\n",
              "  <button class=\"colab-df-quickchart\" onclick=\"quickchart('df-0129ff60-fa70-425e-973b-47ce3795ef6f')\"\n",
              "            title=\"Suggest charts\"\n",
              "            style=\"display:none;\">\n",
              "\n",
              "<svg xmlns=\"http://www.w3.org/2000/svg\" height=\"24px\"viewBox=\"0 0 24 24\"\n",
              "     width=\"24px\">\n",
              "    <g>\n",
              "        <path d=\"M19 3H5c-1.1 0-2 .9-2 2v14c0 1.1.9 2 2 2h14c1.1 0 2-.9 2-2V5c0-1.1-.9-2-2-2zM9 17H7v-7h2v7zm4 0h-2V7h2v10zm4 0h-2v-4h2v4z\"/>\n",
              "    </g>\n",
              "</svg>\n",
              "  </button>\n",
              "\n",
              "<style>\n",
              "  .colab-df-quickchart {\n",
              "      --bg-color: #E8F0FE;\n",
              "      --fill-color: #1967D2;\n",
              "      --hover-bg-color: #E2EBFA;\n",
              "      --hover-fill-color: #174EA6;\n",
              "      --disabled-fill-color: #AAA;\n",
              "      --disabled-bg-color: #DDD;\n",
              "  }\n",
              "\n",
              "  [theme=dark] .colab-df-quickchart {\n",
              "      --bg-color: #3B4455;\n",
              "      --fill-color: #D2E3FC;\n",
              "      --hover-bg-color: #434B5C;\n",
              "      --hover-fill-color: #FFFFFF;\n",
              "      --disabled-bg-color: #3B4455;\n",
              "      --disabled-fill-color: #666;\n",
              "  }\n",
              "\n",
              "  .colab-df-quickchart {\n",
              "    background-color: var(--bg-color);\n",
              "    border: none;\n",
              "    border-radius: 50%;\n",
              "    cursor: pointer;\n",
              "    display: none;\n",
              "    fill: var(--fill-color);\n",
              "    height: 32px;\n",
              "    padding: 0;\n",
              "    width: 32px;\n",
              "  }\n",
              "\n",
              "  .colab-df-quickchart:hover {\n",
              "    background-color: var(--hover-bg-color);\n",
              "    box-shadow: 0 1px 2px rgba(60, 64, 67, 0.3), 0 1px 3px 1px rgba(60, 64, 67, 0.15);\n",
              "    fill: var(--button-hover-fill-color);\n",
              "  }\n",
              "\n",
              "  .colab-df-quickchart-complete:disabled,\n",
              "  .colab-df-quickchart-complete:disabled:hover {\n",
              "    background-color: var(--disabled-bg-color);\n",
              "    fill: var(--disabled-fill-color);\n",
              "    box-shadow: none;\n",
              "  }\n",
              "\n",
              "  .colab-df-spinner {\n",
              "    border: 2px solid var(--fill-color);\n",
              "    border-color: transparent;\n",
              "    border-bottom-color: var(--fill-color);\n",
              "    animation:\n",
              "      spin 1s steps(1) infinite;\n",
              "  }\n",
              "\n",
              "  @keyframes spin {\n",
              "    0% {\n",
              "      border-color: transparent;\n",
              "      border-bottom-color: var(--fill-color);\n",
              "      border-left-color: var(--fill-color);\n",
              "    }\n",
              "    20% {\n",
              "      border-color: transparent;\n",
              "      border-left-color: var(--fill-color);\n",
              "      border-top-color: var(--fill-color);\n",
              "    }\n",
              "    30% {\n",
              "      border-color: transparent;\n",
              "      border-left-color: var(--fill-color);\n",
              "      border-top-color: var(--fill-color);\n",
              "      border-right-color: var(--fill-color);\n",
              "    }\n",
              "    40% {\n",
              "      border-color: transparent;\n",
              "      border-right-color: var(--fill-color);\n",
              "      border-top-color: var(--fill-color);\n",
              "    }\n",
              "    60% {\n",
              "      border-color: transparent;\n",
              "      border-right-color: var(--fill-color);\n",
              "    }\n",
              "    80% {\n",
              "      border-color: transparent;\n",
              "      border-right-color: var(--fill-color);\n",
              "      border-bottom-color: var(--fill-color);\n",
              "    }\n",
              "    90% {\n",
              "      border-color: transparent;\n",
              "      border-bottom-color: var(--fill-color);\n",
              "    }\n",
              "  }\n",
              "</style>\n",
              "\n",
              "  <script>\n",
              "    async function quickchart(key) {\n",
              "      const quickchartButtonEl =\n",
              "        document.querySelector('#' + key + ' button');\n",
              "      quickchartButtonEl.disabled = true;  // To prevent multiple clicks.\n",
              "      quickchartButtonEl.classList.add('colab-df-spinner');\n",
              "      try {\n",
              "        const charts = await google.colab.kernel.invokeFunction(\n",
              "            'suggestCharts', [key], {});\n",
              "      } catch (error) {\n",
              "        console.error('Error during call to suggestCharts:', error);\n",
              "      }\n",
              "      quickchartButtonEl.classList.remove('colab-df-spinner');\n",
              "      quickchartButtonEl.classList.add('colab-df-quickchart-complete');\n",
              "    }\n",
              "    (() => {\n",
              "      let quickchartButtonEl =\n",
              "        document.querySelector('#df-0129ff60-fa70-425e-973b-47ce3795ef6f button');\n",
              "      quickchartButtonEl.style.display =\n",
              "        google.colab.kernel.accessAllowed ? 'block' : 'none';\n",
              "    })();\n",
              "  </script>\n",
              "</div>\n",
              "\n",
              "    </div>\n",
              "  </div>\n"
            ],
            "application/vnd.google.colaboratory.intrinsic+json": {
              "type": "dataframe",
              "summary": "{\n  \"name\": \"df\",\n  \"rows\": 11,\n  \"fields\": [\n    {\n      \"column\": \"Company\",\n      \"properties\": {\n        \"dtype\": \"category\",\n        \"num_unique_values\": 4,\n        \"samples\": [\n          19,\n          \"291\",\n          \"1275\"\n        ],\n        \"semantic_type\": \"\",\n        \"description\": \"\"\n      }\n    },\n    {\n      \"column\": \"Product\",\n      \"properties\": {\n        \"dtype\": \"category\",\n        \"num_unique_values\": 4,\n        \"samples\": [\n          618,\n          \"30\",\n          \"1275\"\n        ],\n        \"semantic_type\": \"\",\n        \"description\": \"\"\n      }\n    },\n    {\n      \"column\": \"TypeName\",\n      \"properties\": {\n        \"dtype\": \"category\",\n        \"num_unique_values\": 4,\n        \"samples\": [\n          6,\n          \"707\",\n          \"1275\"\n        ],\n        \"semantic_type\": \"\",\n        \"description\": \"\"\n      }\n    },\n    {\n      \"column\": \"Inches\",\n      \"properties\": {\n        \"dtype\": \"number\",\n        \"std\": 446.2575963637752,\n        \"min\": 1.4294698446247902,\n        \"max\": 1275.0,\n        \"num_unique_values\": 7,\n        \"samples\": [\n          1275.0,\n          15.022901960784312,\n          15.6\n        ],\n        \"semantic_type\": \"\",\n        \"description\": \"\"\n      }\n    },\n    {\n      \"column\": \"ScreenResolution\",\n      \"properties\": {\n        \"dtype\": \"category\",\n        \"num_unique_values\": 4,\n        \"samples\": [\n          40,\n          \"505\",\n          \"1275\"\n        ],\n        \"semantic_type\": \"\",\n        \"description\": \"\"\n      }\n    },\n    {\n      \"column\": \"CPU_Company\",\n      \"properties\": {\n        \"dtype\": \"category\",\n        \"num_unique_values\": 4,\n        \"samples\": [\n          3,\n          \"1214\",\n          \"1275\"\n        ],\n        \"semantic_type\": \"\",\n        \"description\": \"\"\n      }\n    },\n    {\n      \"column\": \"CPU_Type\",\n      \"properties\": {\n        \"dtype\": \"category\",\n        \"num_unique_values\": 4,\n        \"samples\": [\n          93,\n          \"193\",\n          \"1275\"\n        ],\n        \"semantic_type\": \"\",\n        \"description\": \"\"\n      }\n    },\n    {\n      \"column\": \"CPU_Frequency (GHz)\",\n      \"properties\": {\n        \"dtype\": \"number\",\n        \"std\": 450.0489474584384,\n        \"min\": 0.5038457085709569,\n        \"max\": 1275.0,\n        \"num_unique_values\": 8,\n        \"samples\": [\n          2.302980392156863,\n          2.5,\n          1275.0\n        ],\n        \"semantic_type\": \"\",\n        \"description\": \"\"\n      }\n    },\n    {\n      \"column\": \"RAM (GB)\",\n      \"properties\": {\n        \"dtype\": \"number\",\n        \"std\": 446.22170839681405,\n        \"min\": 2.0,\n        \"max\": 1275.0,\n        \"num_unique_values\": 7,\n        \"samples\": [\n          1275.0,\n          8.44078431372549,\n          8.0\n        ],\n        \"semantic_type\": \"\",\n        \"description\": \"\"\n      }\n    },\n    {\n      \"column\": \"Memory\",\n      \"properties\": {\n        \"dtype\": \"category\",\n        \"num_unique_values\": 4,\n        \"samples\": [\n          39,\n          \"412\",\n          \"1275\"\n        ],\n        \"semantic_type\": \"\",\n        \"description\": \"\"\n      }\n    },\n    {\n      \"column\": \"GPU_Company\",\n      \"properties\": {\n        \"dtype\": \"category\",\n        \"num_unique_values\": 4,\n        \"samples\": [\n          4,\n          \"704\",\n          \"1275\"\n        ],\n        \"semantic_type\": \"\",\n        \"description\": \"\"\n      }\n    },\n    {\n      \"column\": \"GPU_Type\",\n      \"properties\": {\n        \"dtype\": \"category\",\n        \"num_unique_values\": 4,\n        \"samples\": [\n          106,\n          \"280\",\n          \"1275\"\n        ],\n        \"semantic_type\": \"\",\n        \"description\": \"\"\n      }\n    },\n    {\n      \"column\": \"OpSys\",\n      \"properties\": {\n        \"dtype\": \"category\",\n        \"num_unique_values\": 4,\n        \"samples\": [\n          9,\n          \"1048\",\n          \"1275\"\n        ],\n        \"semantic_type\": \"\",\n        \"description\": \"\"\n      }\n    },\n    {\n      \"column\": \"Weight (kg)\",\n      \"properties\": {\n        \"dtype\": \"number\",\n        \"std\": 450.07777142385805,\n        \"min\": 0.6691959759708271,\n        \"max\": 1275.0,\n        \"num_unique_values\": 8,\n        \"samples\": [\n          2.0405254901960785,\n          2.04,\n          1275.0\n        ],\n        \"semantic_type\": \"\",\n        \"description\": \"\"\n      }\n    },\n    {\n      \"column\": \"Price (Euro)\",\n      \"properties\": {\n        \"dtype\": \"number\",\n        \"std\": 1880.659968304601,\n        \"min\": 174.0,\n        \"max\": 6099.0,\n        \"num_unique_values\": 8,\n        \"samples\": [\n          1134.9690588235292,\n          989.0,\n          1275.0\n        ],\n        \"semantic_type\": \"\",\n        \"description\": \"\"\n      }\n    }\n  ]\n}"
            }
          },
          "metadata": {},
          "execution_count": 13
        }
      ],
      "execution_count": 13
    },
    {
      "cell_type": "markdown",
      "source": [
        "# Data Analysis"
      ],
      "metadata": {
        "id": "H-0HPjq2HGLm"
      }
    },
    {
      "cell_type": "code",
      "source": [
        "sns.countplot(data=df, x='Company', palette='Set2')\n",
        "plt.title('Distribution of Laptop Brands (Company)')\n",
        "plt.xticks(rotation=45)\n",
        "plt.show()\n"
      ],
      "metadata": {
        "trusted": true,
        "execution": {
          "iopub.status.busy": "2024-11-13T11:38:35.880624Z",
          "iopub.execute_input": "2024-11-13T11:38:35.881474Z",
          "iopub.status.idle": "2024-11-13T11:38:36.305105Z",
          "shell.execute_reply.started": "2024-11-13T11:38:35.881435Z",
          "shell.execute_reply": "2024-11-13T11:38:36.304143Z"
        },
        "id": "LPmGh5wHHGLm",
        "outputId": "2e3cca09-0360-4007-c362-a19ec2db321a",
        "colab": {
          "base_uri": "https://localhost:8080/",
          "height": 625
        }
      },
      "outputs": [
        {
          "output_type": "stream",
          "name": "stderr",
          "text": [
            "<ipython-input-14-1680b52da6b1>:1: FutureWarning: \n",
            "\n",
            "Passing `palette` without assigning `hue` is deprecated and will be removed in v0.14.0. Assign the `x` variable to `hue` and set `legend=False` for the same effect.\n",
            "\n",
            "  sns.countplot(data=df, x='Company', palette='Set2')\n"
          ]
        },
        {
          "output_type": "display_data",
          "data": {
            "text/plain": [
              "<Figure size 640x480 with 1 Axes>"
            ],
            "image/png": "[encoded data removed]"
          },
          "metadata": {}
        }
      ],
      "execution_count": 14
    },
    {
      "cell_type": "code",
      "source": [
        "sns.countplot(data=df, x='Product', palette='Set1')\n",
        "plt.title('Distribution of Laptop Products')\n",
        "plt.xticks(rotation=90)\n",
        "plt.show()\n"
      ],
      "metadata": {
        "trusted": true,
        "execution": {
          "iopub.status.busy": "2024-11-13T11:38:49.13579Z",
          "iopub.execute_input": "2024-11-13T11:38:49.136228Z",
          "iopub.status.idle": "2024-11-13T11:38:54.606967Z",
          "shell.execute_reply.started": "2024-11-13T11:38:49.13619Z",
          "shell.execute_reply": "2024-11-13T11:38:54.605899Z"
        },
        "id": "FtHwVUwgHGLm"
      },
      "outputs": [],
      "execution_count": null
    },
    {
      "cell_type": "code",
      "source": [
        "plt.figure(figsize=(12,6))\n",
        "sns.boxplot(data=df, x='Company', y='Price (Euro)', palette='coolwarm')\n",
        "plt.title('Laptop Price Distribution by Company')\n",
        "plt.xticks(rotation=45)\n",
        "plt.show()\n"
      ],
      "metadata": {
        "trusted": true,
        "execution": {
          "iopub.status.busy": "2024-11-13T11:41:13.673103Z",
          "iopub.execute_input": "2024-11-13T11:41:13.673952Z",
          "iopub.status.idle": "2024-11-13T11:41:14.186808Z",
          "shell.execute_reply.started": "2024-11-13T11:41:13.673914Z",
          "shell.execute_reply": "2024-11-13T11:41:14.185922Z"
        },
        "id": "VK3kMpU4HGLm",
        "outputId": "222899d0-e902-4576-cf60-948ff2330a07",
        "colab": {
          "base_uri": "https://localhost:8080/",
          "height": 718
        }
      },
      "outputs": [
        {
          "output_type": "stream",
          "name": "stderr",
          "text": [
            "<ipython-input-15-3379c7a581da>:2: FutureWarning: \n",
            "\n",
            "Passing `palette` without assigning `hue` is deprecated and will be removed in v0.14.0. Assign the `x` variable to `hue` and set `legend=False` for the same effect.\n",
            "\n",
            "  sns.boxplot(data=df, x='Company', y='Price (Euro)', palette='coolwarm')\n"
          ]
        },
        {
          "output_type": "display_data",
          "data": {
            "text/plain": [
              "<Figure size 1200x600 with 1 Axes>"
            ],
            "image/png": "[encoded data removed]"
          },
          "metadata": {}
        }
      ],
      "execution_count": 15
    },
    {
      "cell_type": "code",
      "source": [
        "plt.figure(figsize=(10,6))\n",
        "sns.boxplot(data=df, x='TypeName', y='Price (Euro)', palette='muted')\n",
        "plt.title('Laptop Price Distribution by Type (e.g., Gaming, Ultrabook)')\n",
        "plt.xticks(rotation=45)\n",
        "plt.show()\n"
      ],
      "metadata": {
        "trusted": true,
        "execution": {
          "iopub.status.busy": "2024-11-13T11:42:02.947343Z",
          "iopub.execute_input": "2024-11-13T11:42:02.947721Z",
          "iopub.status.idle": "2024-11-13T11:42:03.286132Z",
          "shell.execute_reply.started": "2024-11-13T11:42:02.947688Z",
          "shell.execute_reply": "2024-11-13T11:42:03.285167Z"
        },
        "id": "aFeCZS98HGLm",
        "outputId": "a4f1147e-843e-4d9b-9a0b-1e0033666929",
        "colab": {
          "base_uri": "https://localhost:8080/",
          "height": 754
        }
      },
      "outputs": [
        {
          "output_type": "stream",
          "name": "stderr",
          "text": [
            "<ipython-input-16-0b67128a94f0>:2: FutureWarning: \n",
            "\n",
            "Passing `palette` without assigning `hue` is deprecated and will be removed in v0.14.0. Assign the `x` variable to `hue` and set `legend=False` for the same effect.\n",
            "\n",
            "  sns.boxplot(data=df, x='TypeName', y='Price (Euro)', palette='muted')\n"
          ]
        },
        {
          "output_type": "display_data",
          "data": {
            "text/plain": [
              "<Figure size 1000x600 with 1 Axes>"
            ],
            "image/png": "[encoded data removed]"
          },
          "metadata": {}
        }
      ],
      "execution_count": 16
    },
    {
      "cell_type": "code",
      "source": [
        "category_columns = ['Company', 'Product', 'TypeName', 'ScreenResolution', 'CPU_Company', 'CPU_Type',\n",
        "                    'Memory', 'GPU_Company', 'GPU_Type', 'OpSys']\n",
        "\n",
        "category_avg_price = df[category_columns + ['Price (Euro)']].groupby(category_columns)['Price (Euro)'].mean().reset_index()\n",
        "category_avg_price_pivot = category_avg_price.pivot_table(values='Price (Euro)', columns='TypeName', index='Company')\n",
        "\n",
        "plt.figure(figsize=(15,8))\n",
        "sns.heatmap(category_avg_price_pivot, annot=True, cmap='YlGnBu', fmt='.2f', linewidths=0.5)\n",
        "plt.title('Heatmap of Average Laptop Prices by Company and TypeName')\n",
        "plt.show()\n"
      ],
      "metadata": {
        "trusted": true,
        "execution": {
          "iopub.status.busy": "2024-11-13T11:43:14.556924Z",
          "iopub.execute_input": "2024-11-13T11:43:14.55768Z",
          "iopub.status.idle": "2024-11-13T11:43:15.136567Z",
          "shell.execute_reply.started": "2024-11-13T11:43:14.557638Z",
          "shell.execute_reply": "2024-11-13T11:43:15.135565Z"
        },
        "id": "tzqZLVANHGLm",
        "outputId": "5aa9d995-0ccc-4ba6-af86-acd4ef6a527a",
        "colab": {
          "base_uri": "https://localhost:8080/",
          "height": 676
        }
      },
      "outputs": [
        {
          "output_type": "display_data",
          "data": {
            "text/plain": [
              "<Figure size 1500x800 with 2 Axes>"
            ],
            "image/png": "[encoded data removed]"
          },
          "metadata": {}
        }
      ],
      "execution_count": 17
    },
    {
      "cell_type": "code",
      "source": [
        "crosstab_cpu_gpu = pd.crosstab(df['CPU_Company'], df['GPU_Company'])\n",
        "crosstab_cpu_gpu.plot(kind='bar', stacked=True, figsize=(12,6), colormap='Set3')\n",
        "plt.title('CPU vs GPU Company Distribution')\n",
        "plt.ylabel('Count')\n",
        "plt.show()\n"
      ],
      "metadata": {
        "trusted": true,
        "execution": {
          "iopub.status.busy": "2024-11-13T11:43:39.703899Z",
          "iopub.execute_input": "2024-11-13T11:43:39.704297Z",
          "iopub.status.idle": "2024-11-13T11:43:40.050278Z",
          "shell.execute_reply.started": "2024-11-13T11:43:39.704259Z",
          "shell.execute_reply": "2024-11-13T11:43:40.049327Z"
        },
        "id": "3Yla8yqdHGLn",
        "outputId": "cee1ea35-cc31-4081-de5a-6a9229df97a9",
        "colab": {
          "base_uri": "https://localhost:8080/",
          "height": 614
        }
      },
      "outputs": [
        {
          "output_type": "display_data",
          "data": {
            "text/plain": [
              "<Figure size 1200x600 with 1 Axes>"
            ],
            "image/png": "[encoded data removed]"
          },
          "metadata": {}
        }
      ],
      "execution_count": 18
    },
    {
      "cell_type": "code",
      "source": [
        "crosstab_op_sys_type = pd.crosstab(df['OpSys'], df['TypeName'])\n",
        "crosstab_op_sys_type.plot(kind='bar', stacked=True, figsize=(12,6), colormap='viridis')\n",
        "plt.title('Operating System Distribution by Laptop Type')\n",
        "plt.ylabel('Count')\n",
        "plt.show()\n"
      ],
      "metadata": {
        "trusted": true,
        "execution": {
          "iopub.status.busy": "2024-11-13T11:43:59.823789Z",
          "iopub.execute_input": "2024-11-13T11:43:59.824194Z",
          "iopub.status.idle": "2024-11-13T11:44:00.272055Z",
          "shell.execute_reply.started": "2024-11-13T11:43:59.824156Z",
          "shell.execute_reply": "2024-11-13T11:44:00.271168Z"
        },
        "id": "NHfboyplHGLn",
        "outputId": "11e12b25-56ab-4923-90ac-76f3412d4d15",
        "colab": {
          "base_uri": "https://localhost:8080/",
          "height": 647
        }
      },
      "outputs": [
        {
          "output_type": "display_data",
          "data": {
            "text/plain": [
              "<Figure size 1200x600 with 1 Axes>"
            ],
            "image/png": "[encoded data removed]"
          },
          "metadata": {}
        }
      ],
      "execution_count": 20
    },
    {
      "cell_type": "code",
      "source": [
        "from wordcloud import WordCloud\n",
        "\n",
        "text = ' '.join(df['Product'].dropna())\n",
        "wordcloud = WordCloud(width=800, height=400, background_color='white').generate(text)\n",
        "\n",
        "plt.figure(figsize=(10,6))\n",
        "plt.imshow(wordcloud, interpolation='bilinear')\n",
        "plt.title('Word Cloud for Laptop Product Names')\n",
        "plt.axis('off')\n",
        "plt.show()\n"
      ],
      "metadata": {
        "trusted": true,
        "execution": {
          "iopub.status.busy": "2024-11-13T11:44:28.927923Z",
          "iopub.execute_input": "2024-11-13T11:44:28.928323Z",
          "iopub.status.idle": "2024-11-13T11:44:29.752642Z",
          "shell.execute_reply.started": "2024-11-13T11:44:28.928285Z",
          "shell.execute_reply": "2024-11-13T11:44:29.751753Z"
        },
        "id": "2SpVTsLPHGLn"
      },
      "outputs": [],
      "execution_count": null
    },
    {
      "cell_type": "code",
      "source": [
        "from scipy.stats import chi2_contingency\n",
        "\n",
        "# Chi-square test for TypeName vs Company\n",
        "contingency_table = pd.crosstab(df['TypeName'], df['Company'])\n",
        "chi2, p, dof, expected = chi2_contingency(contingency_table)\n",
        "\n",
        "print(f\"Chi-Square: {chi2}, p-value: {p}\")\n"
      ],
      "metadata": {
        "trusted": true,
        "execution": {
          "iopub.status.busy": "2024-11-13T11:44:47.934584Z",
          "iopub.execute_input": "2024-11-13T11:44:47.935241Z",
          "iopub.status.idle": "2024-11-13T11:44:47.957523Z",
          "shell.execute_reply.started": "2024-11-13T11:44:47.935203Z",
          "shell.execute_reply": "2024-11-13T11:44:47.95662Z"
        },
        "id": "hpP7ZZ1kHGLn"
      },
      "outputs": [],
      "execution_count": null
    },
    {
      "cell_type": "code",
      "source": [
        "plt.figure(figsize=(8,6))\n",
        "sns.histplot(df['Inches'], kde=True, color='skyblue', bins=15)\n",
        "plt.title('Distribution of Laptop Screen Size (Inches)')\n",
        "plt.xlabel('Screen Size (Inches)')\n",
        "plt.ylabel('Frequency')\n",
        "plt.show()\n"
      ],
      "metadata": {
        "trusted": true,
        "execution": {
          "iopub.status.busy": "2024-11-13T11:47:43.279325Z",
          "iopub.execute_input": "2024-11-13T11:47:43.279706Z",
          "iopub.status.idle": "2024-11-13T11:47:43.581134Z",
          "shell.execute_reply.started": "2024-11-13T11:47:43.279675Z",
          "shell.execute_reply": "2024-11-13T11:47:43.580061Z"
        },
        "id": "YwdYVPadHGLn"
      },
      "outputs": [],
      "execution_count": null
    },
    {
      "cell_type": "code",
      "source": [
        "plt.figure(figsize=(8,6))\n",
        "sns.histplot(df['CPU_Frequency (GHz)'], kde=True, color='lightgreen', bins=15)\n",
        "plt.title('Distribution of CPU Frequency (GHz)')\n",
        "plt.xlabel('CPU Frequency (GHz)')\n",
        "plt.ylabel('Frequency')\n",
        "plt.show()\n"
      ],
      "metadata": {
        "trusted": true,
        "execution": {
          "iopub.status.busy": "2024-11-13T11:49:00.379234Z",
          "iopub.execute_input": "2024-11-13T11:49:00.379783Z",
          "iopub.status.idle": "2024-11-13T11:49:00.708867Z",
          "shell.execute_reply.started": "2024-11-13T11:49:00.379743Z",
          "shell.execute_reply": "2024-11-13T11:49:00.707771Z"
        },
        "id": "ZA9I6TMuHGLo"
      },
      "outputs": [],
      "execution_count": null
    },
    {
      "cell_type": "code",
      "source": [
        "plt.figure(figsize=(8,6))\n",
        "sns.histplot(df['RAM (GB)'], kde=True, color='coral', bins=10)\n",
        "plt.title('Distribution of RAM (GB)')\n",
        "plt.xlabel('RAM (GB)')\n",
        "plt.ylabel('Frequency')\n",
        "plt.show()\n"
      ],
      "metadata": {
        "trusted": true,
        "execution": {
          "iopub.status.busy": "2024-11-13T11:49:53.946055Z",
          "iopub.execute_input": "2024-11-13T11:49:53.94649Z",
          "iopub.status.idle": "2024-11-13T11:49:54.293099Z",
          "shell.execute_reply.started": "2024-11-13T11:49:53.946453Z",
          "shell.execute_reply": "2024-11-13T11:49:54.292158Z"
        },
        "id": "IiFQKxlrHGLo"
      },
      "outputs": [],
      "execution_count": null
    },
    {
      "cell_type": "code",
      "source": [
        "plt.figure(figsize=(8,6))\n",
        "sns.boxplot(data=df, x='Weight (kg)', color='lightcoral')\n",
        "plt.title('Boxplot of Laptop Weight (kg)')\n",
        "plt.xlabel('Weight (kg)')\n",
        "plt.show()\n"
      ],
      "metadata": {
        "trusted": true,
        "execution": {
          "iopub.status.busy": "2024-11-13T11:50:53.064212Z",
          "iopub.execute_input": "2024-11-13T11:50:53.064585Z",
          "iopub.status.idle": "2024-11-13T11:50:53.223161Z",
          "shell.execute_reply.started": "2024-11-13T11:50:53.06455Z",
          "shell.execute_reply": "2024-11-13T11:50:53.222177Z"
        },
        "id": "T7WFXuYZHGLo"
      },
      "outputs": [],
      "execution_count": null
    },
    {
      "cell_type": "code",
      "source": [
        "plt.figure(figsize=(8,6))\n",
        "sns.boxplot(data=df, x='Price (Euro)', color='purple')\n",
        "plt.title('Boxplot of Laptop Price (Euro)')\n",
        "plt.xlabel('Price (Euro)')\n",
        "plt.show()\n"
      ],
      "metadata": {
        "trusted": true,
        "execution": {
          "iopub.status.busy": "2024-11-13T11:52:22.722544Z",
          "iopub.execute_input": "2024-11-13T11:52:22.722908Z",
          "iopub.status.idle": "2024-11-13T11:52:22.930377Z",
          "shell.execute_reply.started": "2024-11-13T11:52:22.722875Z",
          "shell.execute_reply": "2024-11-13T11:52:22.92948Z"
        },
        "id": "BL0QFTqpHGLo"
      },
      "outputs": [],
      "execution_count": null
    },
    {
      "cell_type": "code",
      "source": [
        "sns.pairplot(df[['Inches', 'CPU_Frequency (GHz)', 'RAM (GB)', 'Weight (kg)', 'Price (Euro)']], diag_kind='kde')\n",
        "plt.suptitle('Pairplot of Numerical Features', y=1.02)\n",
        "plt.show()\n"
      ],
      "metadata": {
        "trusted": true,
        "execution": {
          "iopub.status.busy": "2024-11-13T11:53:52.040049Z",
          "iopub.execute_input": "2024-11-13T11:53:52.041051Z",
          "iopub.status.idle": "2024-11-13T11:53:58.577559Z",
          "shell.execute_reply.started": "2024-11-13T11:53:52.041008Z",
          "shell.execute_reply": "2024-11-13T11:53:58.576692Z"
        },
        "id": "wmuFte1fHGLo"
      },
      "outputs": [],
      "execution_count": null
    },
    {
      "cell_type": "code",
      "source": [
        "plt.figure(figsize=(8,6))\n",
        "sns.scatterplot(data=df, x='RAM (GB)', y='Price (Euro)', color='blue')\n",
        "plt.title('Scatterplot of RAM vs. Price')\n",
        "plt.xlabel('RAM (GB)')\n",
        "plt.ylabel('Price (Euro)')\n",
        "plt.show()\n"
      ],
      "metadata": {
        "trusted": true,
        "execution": {
          "iopub.status.busy": "2024-11-13T11:54:43.607061Z",
          "iopub.execute_input": "2024-11-13T11:54:43.607927Z",
          "iopub.status.idle": "2024-11-13T11:54:43.898281Z",
          "shell.execute_reply.started": "2024-11-13T11:54:43.607886Z",
          "shell.execute_reply": "2024-11-13T11:54:43.897385Z"
        },
        "id": "zSj5E92yHGLo"
      },
      "outputs": [],
      "execution_count": null
    },
    {
      "cell_type": "code",
      "source": [
        "plt.figure(figsize=(8,6))\n",
        "sns.scatterplot(data=df, x='CPU_Frequency (GHz)', y='Price (Euro)', color='green')\n",
        "plt.title('Scatterplot of CPU Frequency vs. Price')\n",
        "plt.xlabel('CPU Frequency (GHz)')\n",
        "plt.ylabel('Price (Euro)')\n",
        "plt.show()\n"
      ],
      "metadata": {
        "trusted": true,
        "execution": {
          "iopub.status.busy": "2024-11-13T11:55:24.684321Z",
          "iopub.execute_input": "2024-11-13T11:55:24.685219Z",
          "iopub.status.idle": "2024-11-13T11:55:24.975728Z",
          "shell.execute_reply.started": "2024-11-13T11:55:24.685173Z",
          "shell.execute_reply": "2024-11-13T11:55:24.974853Z"
        },
        "id": "hla6ziTjHGLp"
      },
      "outputs": [],
      "execution_count": null
    },
    {
      "cell_type": "code",
      "source": [
        "plt.figure(figsize=(8,6))\n",
        "sns.scatterplot(data=df, x='Weight (kg)', y='Price (Euro)', color='red')\n",
        "plt.title('Scatterplot of Weight vs. Price')\n",
        "plt.xlabel('Weight (kg)')\n",
        "plt.ylabel('Price (Euro)')\n",
        "plt.show()\n"
      ],
      "metadata": {
        "trusted": true,
        "execution": {
          "iopub.status.busy": "2024-11-13T11:56:16.698818Z",
          "iopub.execute_input": "2024-11-13T11:56:16.699556Z",
          "iopub.status.idle": "2024-11-13T11:56:17.009016Z",
          "shell.execute_reply.started": "2024-11-13T11:56:16.699514Z",
          "shell.execute_reply": "2024-11-13T11:56:17.008094Z"
        },
        "id": "kwcgUAoWHGLp"
      },
      "outputs": [],
      "execution_count": null
    },
    {
      "cell_type": "code",
      "source": [
        "# Calculate the correlation matrix\n",
        "corr_matrix = df[['Inches', 'CPU_Frequency (GHz)', 'RAM (GB)', 'Weight (kg)', 'Price (Euro)']].corr()\n",
        "\n",
        "# Plot the heatmap\n",
        "plt.figure(figsize=(8,6))\n",
        "sns.heatmap(corr_matrix, annot=True, cmap='coolwarm', fmt='.2f', linewidths=0.5)\n",
        "plt.title('Correlation Heatmap of Numerical Features')\n",
        "plt.show()\n"
      ],
      "metadata": {
        "trusted": true,
        "execution": {
          "iopub.status.busy": "2024-11-13T11:57:23.674326Z",
          "iopub.execute_input": "2024-11-13T11:57:23.67506Z",
          "iopub.status.idle": "2024-11-13T11:57:24.061206Z",
          "shell.execute_reply.started": "2024-11-13T11:57:23.675019Z",
          "shell.execute_reply": "2024-11-13T11:57:24.060324Z"
        },
        "id": "6O6yuHkpHGLp"
      },
      "outputs": [],
      "execution_count": null
    },
    {
      "cell_type": "code",
      "source": [
        "plt.figure(figsize=(8,6))\n",
        "sns.kdeplot(data=df, x='Price (Euro)', hue='RAM (GB)', fill=True, common_norm=False, palette='viridis')\n",
        "plt.title('KDE of Price by RAM')\n",
        "plt.xlabel('Price (Euro)')\n",
        "plt.ylabel('Density')\n",
        "plt.show()\n"
      ],
      "metadata": {
        "trusted": true,
        "execution": {
          "iopub.status.busy": "2024-11-13T11:58:12.392553Z",
          "iopub.execute_input": "2024-11-13T11:58:12.393297Z",
          "iopub.status.idle": "2024-11-13T11:58:12.780607Z",
          "shell.execute_reply.started": "2024-11-13T11:58:12.393242Z",
          "shell.execute_reply": "2024-11-13T11:58:12.779701Z"
        },
        "id": "rgXFnvZBHGLp"
      },
      "outputs": [],
      "execution_count": null
    },
    {
      "cell_type": "code",
      "source": [
        "plt.figure(figsize=(8,7.5))\n",
        "sns.kdeplot(data=df, x='Price (Euro)', hue='CPU_Frequency (GHz)', fill=True, common_norm=False, palette='Blues')\n",
        "plt.title('KDE of Price by CPU Frequency')\n",
        "plt.xlabel('Price (Euro)')\n",
        "plt.ylabel('Density')\n",
        "plt.show()\n"
      ],
      "metadata": {
        "trusted": true,
        "execution": {
          "iopub.status.busy": "2024-11-13T11:59:55.031632Z",
          "iopub.execute_input": "2024-11-13T11:59:55.032006Z",
          "iopub.status.idle": "2024-11-13T11:59:55.611681Z",
          "shell.execute_reply.started": "2024-11-13T11:59:55.031973Z",
          "shell.execute_reply": "2024-11-13T11:59:55.610715Z"
        },
        "id": "VJ0Y_R8LHGLp"
      },
      "outputs": [],
      "execution_count": null
    },
    {
      "cell_type": "markdown",
      "source": [
        "# Company"
      ],
      "metadata": {
        "id": "D0KzLACtHGLp"
      }
    },
    {
      "cell_type": "code",
      "source": [
        "company = df['Company'].value_counts()\n",
        "\n",
        "sns.set_style('darkgrid', {\"grid.color\": \"0.6\", \"grid.linestyle\": \":\"})\n",
        "company = company.sort_values(ascending=True)\n",
        "company.plot(kind='barh', edgecolor='#1F77B4', title='Laptop manufacturer')\n",
        "pd.DataFrame(company.sort_values(ascending=False))"
      ],
      "metadata": {
        "trusted": true,
        "execution": {
          "iopub.status.busy": "2024-11-13T12:02:27.063354Z",
          "iopub.execute_input": "2024-11-13T12:02:27.063767Z",
          "iopub.status.idle": "2024-11-13T12:02:27.546369Z",
          "shell.execute_reply.started": "2024-11-13T12:02:27.06373Z",
          "shell.execute_reply": "2024-11-13T12:02:27.545386Z"
        },
        "id": "P1caHt6tHGLq"
      },
      "outputs": [],
      "execution_count": null
    },
    {
      "cell_type": "markdown",
      "source": [
        "# Type name"
      ],
      "metadata": {
        "id": "9sbGU4L7HGLq"
      }
    },
    {
      "cell_type": "code",
      "source": [
        "TypeName = df['TypeName'].value_counts()\n",
        "\n",
        "sns.set_style('darkgrid', {\"grid.color\": \"0.6\", \"grid.linestyle\": \":\"})\n",
        "TypeName.plot(kind='bar', color='#BD3A3C', edgecolor='#BD3A3C', title='TypeName')\n",
        "plt.xticks(rotation=30)\n",
        "pd.DataFrame(TypeName)"
      ],
      "metadata": {
        "trusted": true,
        "execution": {
          "iopub.status.busy": "2024-11-13T12:03:10.226596Z",
          "iopub.execute_input": "2024-11-13T12:03:10.226976Z",
          "iopub.status.idle": "2024-11-13T12:03:10.610146Z",
          "shell.execute_reply.started": "2024-11-13T12:03:10.226939Z",
          "shell.execute_reply": "2024-11-13T12:03:10.609414Z"
        },
        "id": "WfWuO2JkHGLq"
      },
      "outputs": [],
      "execution_count": null
    },
    {
      "cell_type": "code",
      "source": [
        "Inches = df['Inches'].value_counts()\n",
        "\n",
        "sns.set_style('darkgrid', {\"grid.color\": \"0.6\", \"grid.linestyle\": \":\"})\n",
        "Inches = Inches.sort_values(ascending=True)\n",
        "Inches.plot(kind='barh', color='green', edgecolor='green', title='Screen Size')\n",
        "pd.DataFrame(Inches.sort_values(ascending=False))"
      ],
      "metadata": {
        "trusted": true,
        "execution": {
          "iopub.status.busy": "2024-11-13T12:03:35.498205Z",
          "iopub.execute_input": "2024-11-13T12:03:35.499129Z",
          "iopub.status.idle": "2024-11-13T12:03:35.930585Z",
          "shell.execute_reply.started": "2024-11-13T12:03:35.499075Z",
          "shell.execute_reply": "2024-11-13T12:03:35.929716Z"
        },
        "id": "4dTJ8DlYHGLq"
      },
      "outputs": [],
      "execution_count": null
    },
    {
      "cell_type": "code",
      "source": [
        "memory = df['Memory'].value_counts()\n",
        "\n",
        "plt.figure(figsize=(8,10))\n",
        "sns.set_style('darkgrid', {\"grid.color\": \"0.6\", \"grid.linestyle\": \":\"})\n",
        "memory = memory.sort_values(ascending=True)\n",
        "memory.plot(kind='barh', color='#2B9479', edgecolor='#2B9479')\n",
        "pd.DataFrame(memory.sort_values(ascending=False))"
      ],
      "metadata": {
        "trusted": true,
        "execution": {
          "iopub.status.busy": "2024-11-13T12:04:13.929093Z",
          "iopub.execute_input": "2024-11-13T12:04:13.929496Z",
          "iopub.status.idle": "2024-11-13T12:04:14.614369Z",
          "shell.execute_reply.started": "2024-11-13T12:04:13.929453Z",
          "shell.execute_reply": "2024-11-13T12:04:14.61348Z"
        },
        "id": "BdHoynicHGLu"
      },
      "outputs": [],
      "execution_count": null
    },
    {
      "cell_type": "code",
      "source": [
        "price = df['Price (Euro)']\n",
        "\n",
        "#plt.figure(figsize=(10,4))\n",
        "sns.histplot(price, kde=True)\n",
        "plt.xticks(rotation=0)\n",
        "pd.DataFrame(price.describe())"
      ],
      "metadata": {
        "trusted": true,
        "execution": {
          "iopub.status.busy": "2024-11-13T12:04:51.791705Z",
          "iopub.execute_input": "2024-11-13T12:04:51.792094Z",
          "iopub.status.idle": "2024-11-13T12:04:52.265432Z",
          "shell.execute_reply.started": "2024-11-13T12:04:51.792059Z",
          "shell.execute_reply": "2024-11-13T12:04:52.264265Z"
        },
        "id": "Ii4itMBiHGLu"
      },
      "outputs": [],
      "execution_count": null
    },
    {
      "cell_type": "code",
      "source": [
        "df[df['Price (Euro)'] == 174]"
      ],
      "metadata": {
        "trusted": true,
        "execution": {
          "iopub.status.busy": "2024-11-13T12:05:10.726676Z",
          "iopub.execute_input": "2024-11-13T12:05:10.727511Z",
          "iopub.status.idle": "2024-11-13T12:05:10.744396Z",
          "shell.execute_reply.started": "2024-11-13T12:05:10.727463Z",
          "shell.execute_reply": "2024-11-13T12:05:10.74343Z"
        },
        "id": "IwPeGxyCHGLu"
      },
      "outputs": [],
      "execution_count": null
    },
    {
      "cell_type": "markdown",
      "source": [
        "# Collective data analysis"
      ],
      "metadata": {
        "id": "iYZQ6AzPHGLv"
      }
    },
    {
      "cell_type": "code",
      "source": [
        "sns.barplot(x = df['Company'], y = df['Price (Euro)'])\n",
        "plt.xticks(rotation='vertical')\n",
        "plt.title('Company & Price (Euro)')\n",
        "plt.show()"
      ],
      "metadata": {
        "trusted": true,
        "execution": {
          "iopub.status.busy": "2024-11-13T12:05:55.608177Z",
          "iopub.execute_input": "2024-11-13T12:05:55.609045Z",
          "iopub.status.idle": "2024-11-13T12:05:56.522526Z",
          "shell.execute_reply.started": "2024-11-13T12:05:55.609007Z",
          "shell.execute_reply": "2024-11-13T12:05:56.521615Z"
        },
        "id": "mH4_-LtiHGLv"
      },
      "outputs": [],
      "execution_count": null
    },
    {
      "cell_type": "markdown",
      "source": [
        "# Type to price Euro"
      ],
      "metadata": {
        "id": "yloNDE4JHGLv"
      }
    },
    {
      "cell_type": "code",
      "source": [
        "sns.barplot(x = df['TypeName'], y = df['Price (Euro)'])\n",
        "plt.xticks(rotation='vertical')\n",
        "plt.title('TypeName & Price (Euro)')\n",
        "plt.show()"
      ],
      "metadata": {
        "trusted": true,
        "execution": {
          "iopub.status.busy": "2024-11-13T12:06:51.868183Z",
          "iopub.execute_input": "2024-11-13T12:06:51.868991Z",
          "iopub.status.idle": "2024-11-13T12:06:52.323148Z",
          "shell.execute_reply.started": "2024-11-13T12:06:51.868955Z",
          "shell.execute_reply": "2024-11-13T12:06:52.322178Z"
        },
        "id": "2cOMPVNPHGLv"
      },
      "outputs": [],
      "execution_count": null
    },
    {
      "cell_type": "markdown",
      "source": [
        "# Inches to price  (Euro)"
      ],
      "metadata": {
        "id": "cqIJ2PKTHGLv"
      }
    },
    {
      "cell_type": "code",
      "source": [
        "sns.barplot(x = df['Inches'], y = df['Price (Euro)'])\n",
        "plt.xticks(rotation='vertical')\n",
        "plt.title('Inches & Price (Euro)')\n",
        "plt.show()"
      ],
      "metadata": {
        "trusted": true,
        "execution": {
          "iopub.status.busy": "2024-11-13T12:07:30.011565Z",
          "iopub.execute_input": "2024-11-13T12:07:30.011951Z",
          "iopub.status.idle": "2024-11-13T12:07:30.85636Z",
          "shell.execute_reply.started": "2024-11-13T12:07:30.011912Z",
          "shell.execute_reply": "2024-11-13T12:07:30.855456Z"
        },
        "id": "5-pG6KF1HGLv"
      },
      "outputs": [],
      "execution_count": null
    },
    {
      "cell_type": "code",
      "source": [
        "sns.barplot(x = df['CPU_Company'], y = df['Price (Euro)'])\n",
        "plt.xticks(rotation='vertical')\n",
        "plt.title('CPU_Company & Price (Euro)')\n",
        "plt.show()"
      ],
      "metadata": {
        "trusted": true,
        "execution": {
          "iopub.status.busy": "2024-11-13T12:07:54.768629Z",
          "iopub.execute_input": "2024-11-13T12:07:54.769426Z",
          "iopub.status.idle": "2024-11-13T12:07:55.090938Z",
          "shell.execute_reply.started": "2024-11-13T12:07:54.769385Z",
          "shell.execute_reply": "2024-11-13T12:07:55.090076Z"
        },
        "id": "F8DiqOCOHGLv"
      },
      "outputs": [],
      "execution_count": null
    },
    {
      "cell_type": "markdown",
      "source": [
        "# Data prerposeesing\n"
      ],
      "metadata": {
        "id": "8kyaWeN2HGLv"
      }
    },
    {
      "cell_type": "code",
      "source": [
        "encoder = LabelEncoder()\n",
        "\n",
        "df['Company'] = encoder.fit_transform(df['Company'])\n",
        "df['Product'] = encoder.fit_transform(df['Product'])\n",
        "df['TypeName'] = encoder.fit_transform(df['TypeName'])\n",
        "df['ScreenResolution'] = encoder.fit_transform(df['ScreenResolution'])\n",
        "df['CPU_Company'] = encoder.fit_transform(df['CPU_Company'])\n",
        "df['CPU_Type'] = encoder.fit_transform(df['CPU_Type'])\n",
        "df['Memory'] = encoder.fit_transform(df['Memory'])\n",
        "df['GPU_Company'] = encoder.fit_transform(df['GPU_Company'])\n",
        "df['GPU_Type'] = encoder.fit_transform(df['GPU_Type'])\n",
        "df['OpSys'] = encoder.fit_transform(df['OpSys'])"
      ],
      "metadata": {
        "trusted": true,
        "execution": {
          "iopub.status.busy": "2024-11-13T12:09:18.185157Z",
          "iopub.execute_input": "2024-11-13T12:09:18.186023Z",
          "iopub.status.idle": "2024-11-13T12:09:18.468054Z",
          "shell.execute_reply.started": "2024-11-13T12:09:18.185983Z",
          "shell.execute_reply": "2024-11-13T12:09:18.467011Z"
        },
        "id": "idw241gVHGLv"
      },
      "outputs": [],
      "execution_count": null
    },
    {
      "cell_type": "code",
      "source": [
        "df.head()"
      ],
      "metadata": {
        "trusted": true,
        "execution": {
          "iopub.status.busy": "2024-11-13T12:09:42.004256Z",
          "iopub.execute_input": "2024-11-13T12:09:42.005007Z",
          "iopub.status.idle": "2024-11-13T12:09:42.022883Z",
          "shell.execute_reply.started": "2024-11-13T12:09:42.004956Z",
          "shell.execute_reply": "2024-11-13T12:09:42.021926Z"
        },
        "id": "9ZoHSlMCHGLv"
      },
      "outputs": [],
      "execution_count": null
    },
    {
      "cell_type": "markdown",
      "source": [
        "# Divid input and output"
      ],
      "metadata": {
        "id": "mTUSSiaDHGLv"
      }
    },
    {
      "cell_type": "code",
      "source": [
        "x = df.iloc[ : , 0:-1]\n",
        "y = df.iloc[ : , -1]"
      ],
      "metadata": {
        "trusted": true,
        "execution": {
          "iopub.status.busy": "2024-11-13T12:10:30.344951Z",
          "iopub.execute_input": "2024-11-13T12:10:30.345757Z",
          "iopub.status.idle": "2024-11-13T12:10:30.351488Z",
          "shell.execute_reply.started": "2024-11-13T12:10:30.345715Z",
          "shell.execute_reply": "2024-11-13T12:10:30.350445Z"
        },
        "id": "PdkUG3N7HGLv"
      },
      "outputs": [],
      "execution_count": null
    },
    {
      "cell_type": "code",
      "source": [
        "x"
      ],
      "metadata": {
        "trusted": true,
        "execution": {
          "iopub.status.busy": "2024-11-13T12:10:36.520191Z",
          "iopub.execute_input": "2024-11-13T12:10:36.520587Z",
          "iopub.status.idle": "2024-11-13T12:10:36.540716Z",
          "shell.execute_reply.started": "2024-11-13T12:10:36.52055Z",
          "shell.execute_reply": "2024-11-13T12:10:36.53969Z"
        },
        "id": "vuzJzoOLHGLw"
      },
      "outputs": [],
      "execution_count": null
    },
    {
      "cell_type": "code",
      "source": [
        "y"
      ],
      "metadata": {
        "trusted": true,
        "execution": {
          "iopub.status.busy": "2024-11-13T12:10:48.516801Z",
          "iopub.execute_input": "2024-11-13T12:10:48.517796Z",
          "iopub.status.idle": "2024-11-13T12:10:48.527402Z",
          "shell.execute_reply.started": "2024-11-13T12:10:48.517742Z",
          "shell.execute_reply": "2024-11-13T12:10:48.5265Z"
        },
        "id": "jQRLXwLqHGLw"
      },
      "outputs": [],
      "execution_count": null
    },
    {
      "cell_type": "markdown",
      "source": [
        "# scaling"
      ],
      "metadata": {
        "id": "cbUvELTNHGLw"
      }
    },
    {
      "cell_type": "code",
      "source": [
        "scaler = MinMaxScaler()\n",
        "\n",
        "x = scaler.fit_transform(x)"
      ],
      "metadata": {
        "trusted": true,
        "execution": {
          "iopub.status.busy": "2024-11-13T12:11:37.254871Z",
          "iopub.execute_input": "2024-11-13T12:11:37.255366Z",
          "iopub.status.idle": "2024-11-13T12:11:37.26434Z",
          "shell.execute_reply.started": "2024-11-13T12:11:37.255326Z",
          "shell.execute_reply": "2024-11-13T12:11:37.263364Z"
        },
        "id": "nYVUfziDHGLw"
      },
      "outputs": [],
      "execution_count": null
    },
    {
      "cell_type": "code",
      "source": [
        "x"
      ],
      "metadata": {
        "trusted": true,
        "execution": {
          "iopub.status.busy": "2024-11-13T12:11:47.92406Z",
          "iopub.execute_input": "2024-11-13T12:11:47.924859Z",
          "iopub.status.idle": "2024-11-13T12:11:47.932046Z",
          "shell.execute_reply.started": "2024-11-13T12:11:47.92482Z",
          "shell.execute_reply": "2024-11-13T12:11:47.93106Z"
        },
        "id": "LrbHRrR0HGLw"
      },
      "outputs": [],
      "execution_count": null
    },
    {
      "cell_type": "code",
      "source": [
        "# Convert to DataFrame\n",
        "y_df = y.to_frame()\n",
        "\n",
        "# Fit and transform y\n",
        "y = scaler.fit_transform(y_df)"
      ],
      "metadata": {
        "trusted": true,
        "execution": {
          "iopub.status.busy": "2024-11-13T12:12:11.128799Z",
          "iopub.execute_input": "2024-11-13T12:12:11.129192Z",
          "iopub.status.idle": "2024-11-13T12:12:11.136984Z",
          "shell.execute_reply.started": "2024-11-13T12:12:11.129156Z",
          "shell.execute_reply": "2024-11-13T12:12:11.135949Z"
        },
        "id": "a5CMeEXUHGLw"
      },
      "outputs": [],
      "execution_count": null
    },
    {
      "cell_type": "code",
      "source": [
        "y"
      ],
      "metadata": {
        "trusted": true,
        "execution": {
          "iopub.status.busy": "2024-11-13T12:12:18.001106Z",
          "iopub.execute_input": "2024-11-13T12:12:18.001496Z",
          "iopub.status.idle": "2024-11-13T12:12:18.00779Z",
          "shell.execute_reply.started": "2024-11-13T12:12:18.001454Z",
          "shell.execute_reply": "2024-11-13T12:12:18.006841Z"
        },
        "id": "I1_eqq8oHGLw"
      },
      "outputs": [],
      "execution_count": null
    },
    {
      "cell_type": "markdown",
      "source": [
        "# Train & Test"
      ],
      "metadata": {
        "id": "9RWd8S_zHGLw"
      }
    },
    {
      "cell_type": "code",
      "source": [
        "x_train, x_test, y_train, y_test = train_test_split(x, y, test_size=0.2, shuffle=True, random_state=42)"
      ],
      "metadata": {
        "trusted": true,
        "execution": {
          "iopub.status.busy": "2024-11-13T12:13:07.205349Z",
          "iopub.execute_input": "2024-11-13T12:13:07.205749Z",
          "iopub.status.idle": "2024-11-13T12:13:07.214968Z",
          "shell.execute_reply.started": "2024-11-13T12:13:07.205713Z",
          "shell.execute_reply": "2024-11-13T12:13:07.214106Z"
        },
        "id": "TWhb4NBzHGLw"
      },
      "outputs": [],
      "execution_count": null
    },
    {
      "cell_type": "markdown",
      "source": [
        "# ML Model"
      ],
      "metadata": {
        "id": "aV3lYfveHGLw"
      }
    },
    {
      "cell_type": "code",
      "source": [
        "model_1 = LinearRegression()\n",
        "model_2 = SGDRegressor()\n",
        "model_3 = Lasso()\n",
        "model_4 = Ridge()\n",
        "model_5 = ElasticNet()\n",
        "model_6 = SVR()\n",
        "model_7 = KNeighborsRegressor()\n",
        "model_8 = DecisionTreeRegressor()\n",
        "model_9 = RandomForestRegressor()\n",
        "model_10 = BaggingRegressor()\n",
        "model_11 = ExtraTreesRegressor()\n",
        "model_12 = AdaBoostRegressor()\n",
        "model_13 = XGBRegressor(verbose=0)\n",
        "model_14 = CatBoostRegressor(verbose=0)\n",
        "model_15 = LGBMRegressor(verbose=0)"
      ],
      "metadata": {
        "trusted": true,
        "execution": {
          "iopub.status.busy": "2024-11-13T12:13:40.190645Z",
          "iopub.execute_input": "2024-11-13T12:13:40.191026Z",
          "iopub.status.idle": "2024-11-13T12:13:40.204326Z",
          "shell.execute_reply.started": "2024-11-13T12:13:40.190991Z",
          "shell.execute_reply": "2024-11-13T12:13:40.203397Z"
        },
        "id": "Tk7PixeRHGLw"
      },
      "outputs": [],
      "execution_count": null
    },
    {
      "cell_type": "code",
      "source": [
        "model_1.fit(x_train,y_train)"
      ],
      "metadata": {
        "trusted": true,
        "execution": {
          "iopub.status.busy": "2024-11-13T12:13:56.502601Z",
          "iopub.execute_input": "2024-11-13T12:13:56.503439Z",
          "iopub.status.idle": "2024-11-13T12:13:56.542337Z",
          "shell.execute_reply.started": "2024-11-13T12:13:56.503398Z",
          "shell.execute_reply": "2024-11-13T12:13:56.541455Z"
        },
        "id": "Th6QBbTKHGLx"
      },
      "outputs": [],
      "execution_count": null
    },
    {
      "cell_type": "code",
      "source": [
        "model_2.fit(x_train,y_train)"
      ],
      "metadata": {
        "trusted": true,
        "execution": {
          "iopub.status.busy": "2024-11-13T12:14:09.878584Z",
          "iopub.execute_input": "2024-11-13T12:14:09.879446Z",
          "iopub.status.idle": "2024-11-13T12:14:09.893445Z",
          "shell.execute_reply.started": "2024-11-13T12:14:09.879409Z",
          "shell.execute_reply": "2024-11-13T12:14:09.892362Z"
        },
        "id": "TCmxML1DHGLx"
      },
      "outputs": [],
      "execution_count": null
    },
    {
      "cell_type": "code",
      "source": [
        "model_3.fit(x_train,y_train)"
      ],
      "metadata": {
        "trusted": true,
        "execution": {
          "iopub.status.busy": "2024-11-13T12:14:32.255995Z",
          "iopub.execute_input": "2024-11-13T12:14:32.256525Z",
          "iopub.status.idle": "2024-11-13T12:14:32.271971Z",
          "shell.execute_reply.started": "2024-11-13T12:14:32.256472Z",
          "shell.execute_reply": "2024-11-13T12:14:32.270933Z"
        },
        "id": "uwPFbW5uHGLx"
      },
      "outputs": [],
      "execution_count": null
    },
    {
      "cell_type": "code",
      "source": [
        "model_4.fit(x_train,y_train)"
      ],
      "metadata": {
        "trusted": true,
        "execution": {
          "iopub.status.busy": "2024-11-13T12:14:50.755597Z",
          "iopub.execute_input": "2024-11-13T12:14:50.755964Z",
          "iopub.status.idle": "2024-11-13T12:14:50.771342Z",
          "shell.execute_reply.started": "2024-11-13T12:14:50.75593Z",
          "shell.execute_reply": "2024-11-13T12:14:50.769838Z"
        },
        "id": "V1nkaO6xHGLx"
      },
      "outputs": [],
      "execution_count": null
    },
    {
      "cell_type": "code",
      "source": [
        "model_5.fit(x_train,y_train)\n",
        "#model_6.fit(x_train,y_train)"
      ],
      "metadata": {
        "trusted": true,
        "execution": {
          "iopub.status.busy": "2024-11-13T12:16:11.001817Z",
          "iopub.execute_input": "2024-11-13T12:16:11.002655Z",
          "iopub.status.idle": "2024-11-13T12:16:11.01066Z",
          "shell.execute_reply.started": "2024-11-13T12:16:11.002618Z",
          "shell.execute_reply": "2024-11-13T12:16:11.009764Z"
        },
        "id": "MlE9m2KxHGLx"
      },
      "outputs": [],
      "execution_count": null
    },
    {
      "cell_type": "code",
      "source": [
        "model_6.fit(x_train,y_train)"
      ],
      "metadata": {
        "trusted": true,
        "execution": {
          "iopub.status.busy": "2024-11-13T12:16:02.711617Z",
          "iopub.execute_input": "2024-11-13T12:16:02.712246Z",
          "iopub.status.idle": "2024-11-13T12:16:02.733056Z",
          "shell.execute_reply.started": "2024-11-13T12:16:02.712208Z",
          "shell.execute_reply": "2024-11-13T12:16:02.73219Z"
        },
        "id": "mV6lUyIIHGLx"
      },
      "outputs": [],
      "execution_count": null
    },
    {
      "cell_type": "code",
      "source": [
        "model_7.fit(x_train,y_train)"
      ],
      "metadata": {
        "trusted": true,
        "execution": {
          "iopub.status.busy": "2024-11-13T12:16:27.42705Z",
          "iopub.execute_input": "2024-11-13T12:16:27.427808Z",
          "iopub.status.idle": "2024-11-13T12:16:27.438131Z",
          "shell.execute_reply.started": "2024-11-13T12:16:27.427767Z",
          "shell.execute_reply": "2024-11-13T12:16:27.43719Z"
        },
        "id": "fKT7aTwkHGLx"
      },
      "outputs": [],
      "execution_count": null
    },
    {
      "cell_type": "code",
      "source": [
        "model_8.fit(x_train,y_train)"
      ],
      "metadata": {
        "trusted": true,
        "execution": {
          "iopub.status.busy": "2024-11-13T12:16:41.796018Z",
          "iopub.execute_input": "2024-11-13T12:16:41.796875Z",
          "iopub.status.idle": "2024-11-13T12:16:41.812015Z",
          "shell.execute_reply.started": "2024-11-13T12:16:41.796834Z",
          "shell.execute_reply": "2024-11-13T12:16:41.81113Z"
        },
        "id": "JtiFGqUNHGLy"
      },
      "outputs": [],
      "execution_count": null
    },
    {
      "cell_type": "code",
      "source": [
        "model_9.fit(x_train,y_train)"
      ],
      "metadata": {
        "trusted": true,
        "execution": {
          "iopub.status.busy": "2024-11-13T12:16:50.441078Z",
          "iopub.execute_input": "2024-11-13T12:16:50.441448Z",
          "iopub.status.idle": "2024-11-13T12:16:50.927985Z",
          "shell.execute_reply.started": "2024-11-13T12:16:50.441416Z",
          "shell.execute_reply": "2024-11-13T12:16:50.927127Z"
        },
        "id": "2HzzobZHHGLy"
      },
      "outputs": [],
      "execution_count": null
    },
    {
      "cell_type": "code",
      "source": [
        "model_10.fit(x_train,y_train)"
      ],
      "metadata": {
        "trusted": true,
        "execution": {
          "iopub.status.busy": "2024-11-13T12:17:01.207456Z",
          "iopub.execute_input": "2024-11-13T12:17:01.207875Z",
          "iopub.status.idle": "2024-11-13T12:17:01.271411Z",
          "shell.execute_reply.started": "2024-11-13T12:17:01.207827Z",
          "shell.execute_reply": "2024-11-13T12:17:01.270563Z"
        },
        "id": "e6oWf3wrHGLy"
      },
      "outputs": [],
      "execution_count": null
    },
    {
      "cell_type": "code",
      "source": [
        "model_11.fit(x_train,y_train)"
      ],
      "metadata": {
        "trusted": true,
        "execution": {
          "iopub.status.busy": "2024-11-13T12:17:10.079767Z",
          "iopub.execute_input": "2024-11-13T12:17:10.080137Z",
          "iopub.status.idle": "2024-11-13T12:17:10.425102Z",
          "shell.execute_reply.started": "2024-11-13T12:17:10.080091Z",
          "shell.execute_reply": "2024-11-13T12:17:10.424198Z"
        },
        "id": "X2GnQOQqHGLy"
      },
      "outputs": [],
      "execution_count": null
    },
    {
      "cell_type": "code",
      "source": [
        "model_12.fit(x_train,y_train)"
      ],
      "metadata": {
        "trusted": true,
        "execution": {
          "iopub.status.busy": "2024-11-13T12:17:20.433386Z",
          "iopub.execute_input": "2024-11-13T12:17:20.433756Z",
          "iopub.status.idle": "2024-11-13T12:17:20.570952Z",
          "shell.execute_reply.started": "2024-11-13T12:17:20.433725Z",
          "shell.execute_reply": "2024-11-13T12:17:20.569984Z"
        },
        "id": "V3bguH3NHGLy"
      },
      "outputs": [],
      "execution_count": null
    },
    {
      "cell_type": "code",
      "source": [
        "model_13.fit(x_train,y_train)"
      ],
      "metadata": {
        "trusted": true,
        "execution": {
          "iopub.status.busy": "2024-11-13T12:17:30.238768Z",
          "iopub.execute_input": "2024-11-13T12:17:30.239579Z",
          "iopub.status.idle": "2024-11-13T12:17:30.433947Z",
          "shell.execute_reply.started": "2024-11-13T12:17:30.23954Z",
          "shell.execute_reply": "2024-11-13T12:17:30.433184Z"
        },
        "id": "kHWokS2kHGLy"
      },
      "outputs": [],
      "execution_count": null
    },
    {
      "cell_type": "code",
      "source": [
        "model_14.fit(x_train,y_train)"
      ],
      "metadata": {
        "trusted": true,
        "execution": {
          "iopub.status.busy": "2024-11-13T12:17:47.857297Z",
          "iopub.execute_input": "2024-11-13T12:17:47.858145Z",
          "iopub.status.idle": "2024-11-13T12:17:48.737428Z",
          "shell.execute_reply.started": "2024-11-13T12:17:47.858094Z",
          "shell.execute_reply": "2024-11-13T12:17:48.736484Z"
        },
        "id": "jS5oD2mBHGLy"
      },
      "outputs": [],
      "execution_count": null
    },
    {
      "cell_type": "code",
      "source": [
        "model_15.fit(x_train,y_train)"
      ],
      "metadata": {
        "trusted": true,
        "execution": {
          "iopub.status.busy": "2024-11-13T12:17:59.941712Z",
          "iopub.execute_input": "2024-11-13T12:17:59.942089Z",
          "iopub.status.idle": "2024-11-13T12:18:00.05503Z",
          "shell.execute_reply.started": "2024-11-13T12:17:59.942053Z",
          "shell.execute_reply": "2024-11-13T12:18:00.05411Z"
        },
        "id": "-pK2EQ_gHGLy"
      },
      "outputs": [],
      "execution_count": null
    },
    {
      "cell_type": "code",
      "source": [
        "df.columns"
      ],
      "metadata": {
        "trusted": true,
        "execution": {
          "iopub.status.busy": "2024-11-13T11:52:07.875884Z",
          "iopub.execute_input": "2024-11-13T11:52:07.876305Z",
          "iopub.status.idle": "2024-11-13T11:52:07.8831Z",
          "shell.execute_reply.started": "2024-11-13T11:52:07.876268Z",
          "shell.execute_reply": "2024-11-13T11:52:07.88206Z"
        },
        "id": "OkxetWXDHGLy"
      },
      "outputs": [],
      "execution_count": null
    },
    {
      "cell_type": "code",
      "source": [
        "# List of models:\n",
        "models = [model_1, model_2, model_3, model_4, model_5,\n",
        "          model_6, model_7, model_8, model_9, model_10,\n",
        "          model_11, model_12, model_13, model_14, model_15]\n",
        "models_names = ['LinearRegression', 'SGDRegressor', 'Lasso', 'Ridge', 'ElasticNet', 'SVR', 'KNeighborsRegressor', 'DecisionTreeRegressor', 'RandomForestRegressor', 'BaggingRegressor', 'ExtraTreesRegressor', 'AdaBoostRegressor', 'XGBRegressor', 'CatBoostRegressor', 'LGBMRegressor']\n",
        "\n",
        "# Calculate predictions and squared errors for each model:\n",
        "squared_errors = []\n",
        "for model in models:\n",
        "    y_pred = model.predict(x_test)\n",
        "    mse = mean_squared_error(y_test, y_pred)\n",
        "    squared_errors.append(f'{mse * 100:.2f}%')  # Format as percentage\n",
        "\n",
        "# Calculate train and test scores:\n",
        "train_score = [model.score(x_train, y_train) for model in models]\n",
        "test_score = [model.score(x_test, y_test) for model in models]\n",
        "\n",
        "# Difference between training and testing ratio\n",
        "ratio = []\n",
        "for train, test in zip(train_score, test_score):\n",
        "    result = train - test\n",
        "    ratio.append(f'{result * 100:.2f}%')\n",
        "\n",
        "# Measure model state:6\n",
        "rate = []\n",
        "for train, test in zip(train_score, test_score):\n",
        "    if train <= 0.65 and test <= 0.65:\n",
        "        rate.append('bad')\n",
        "    elif train > test * 1.10:\n",
        "        rate.append('overfite')\n",
        "    elif train > 0.65 and train < 0.80 and test > 0.65 and test < 0.80:\n",
        "        rate.append('middle')\n",
        "    elif train >= 0.80 and test >= 0.80 and train < 1.00 and test < 1.00:\n",
        "        rate.append('good')\n",
        "    elif train >= 0.80 and test < 0.80:\n",
        "        rate.append('high train, low test')\n",
        "    else:\n",
        "        rate.append('unknown')\n",
        "\n",
        "# Create DataFrame\n",
        "model_score = pd.DataFrame({\n",
        "    'Model': models_names,\n",
        "    'Train score': [f'{round(score * 100, 2)}%' for score in train_score],\n",
        "    'Test score': [f'{round(score * 100, 2)}%' for score in test_score],\n",
        "    'Ratio difference': ratio,\n",
        "    'Evaluate model': rate,\n",
        "    'Squared error': squared_errors\n",
        "})\n",
        "\n",
        "# Show result:\n",
        "model_score"
      ],
      "metadata": {
        "trusted": true,
        "execution": {
          "iopub.status.busy": "2024-11-13T12:18:26.370871Z",
          "iopub.execute_input": "2024-11-13T12:18:26.371745Z",
          "iopub.status.idle": "2024-11-13T12:18:26.696454Z",
          "shell.execute_reply.started": "2024-11-13T12:18:26.371698Z",
          "shell.execute_reply": "2024-11-13T12:18:26.695482Z"
        },
        "id": "bnCj1V2pHGLy"
      },
      "outputs": [],
      "execution_count": null
    },
    {
      "cell_type": "code",
      "source": [
        "\n",
        "\n",
        "# Set up figure size and style\n",
        "plt.figure(figsize=(14, 8))\n",
        "sns.set(style=\"whitegrid\")\n",
        "\n",
        "# Bar plot for Train and Test Scores\n",
        "train_scores = [float(score[:-1]) for score in model_score['Train score']]  # Removing the percentage sign\n",
        "test_scores = [float(score[:-1]) for score in model_score['Test score']]  # Removing the percentage sign\n",
        "\n",
        "x = np.arange(len(models_names))  # Number of models\n",
        "\n",
        "width = 0.35  # Width of the bars\n",
        "fig, ax = plt.subplots(figsize=(14, 7))\n",
        "rects1 = ax.bar(x - width/2, train_scores, width, label='Train Score', color='blue')\n",
        "rects2 = ax.bar(x + width/2, test_scores, width, label='Test Score', color='orange')\n",
        "\n",
        "# Add labels and title\n",
        "ax.set_xlabel('Models')\n",
        "ax.set_ylabel('Score (%)')\n",
        "ax.set_title('Train and Test Scores for Different Models')\n",
        "ax.set_xticks(x)\n",
        "ax.set_xticklabels(models_names, rotation=45, ha='right')\n",
        "ax.legend()\n",
        "\n",
        "# Show the plot\n",
        "plt.tight_layout()\n",
        "plt.show()\n"
      ],
      "metadata": {
        "trusted": true,
        "execution": {
          "iopub.status.busy": "2024-11-13T12:20:51.008902Z",
          "iopub.execute_input": "2024-11-13T12:20:51.009308Z",
          "iopub.status.idle": "2024-11-13T12:20:51.556636Z",
          "shell.execute_reply.started": "2024-11-13T12:20:51.00927Z",
          "shell.execute_reply": "2024-11-13T12:20:51.555675Z"
        },
        "id": "Z9ZgUT6_HGLz"
      },
      "outputs": [],
      "execution_count": null
    },
    {
      "cell_type": "markdown",
      "source": [
        "# If you like my notebook please upvote ..."
      ],
      "metadata": {
        "id": "J0pv132nHGLz"
      }
    }
  ]
}